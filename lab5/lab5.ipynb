{
 "cells": [
  {
   "cell_type": "markdown",
   "id": "c3409fe3-0f7d-4ae3-a03a-c70371c856a5",
   "metadata": {},
   "source": [
    "**Практическое задание №5 по курсу \"Методы и технологии машинного обучения\"**\n",
    "\n",
    "*Арешин Станислав Олегович М8О-111М-21*\n",
    "\n",
    "**Задание**\n",
    "\n",
    "* Выбрать датасет, алгоритм классификации и построить модель с подбором оптимальных параметров.  \n",
    "\n",
    "* При помощи методов feature engineering и feature selection попытаться улучшить метрики качества."
   ]
  },
  {
   "cell_type": "code",
   "execution_count": 1,
   "id": "08bd7647-829b-4915-8a9c-2e5a3b993f8d",
   "metadata": {},
   "outputs": [],
   "source": [
    "import numpy as np\n",
    "import pandas as pd \n",
    "import matplotlib.pyplot as plt\n",
    "import seaborn as sns\n",
    "\n",
    "sns.set_style(\"darkgrid\", {\"grid.color\": \".6\", \"grid.linestyle\": \":\"})\n",
    "\n",
    "%matplotlib inline"
   ]
  },
  {
   "cell_type": "markdown",
   "id": "8b1b1199-9e21-40fb-a3eb-243380cceef8",
   "metadata": {},
   "source": [
    "# Baseline"
   ]
  },
  {
   "cell_type": "markdown",
   "id": "5ede70fa-71d2-4da7-a65d-4ba17de8d479",
   "metadata": {},
   "source": [
    "## Загрузка данных\n",
    "\n",
    "https://www.kaggle.com/sagnik1511/car-insurance-data\n",
    "\n",
    "\n",
    "Компания поделилась своими ежегодными данными по автострахованию. Предстоит выяснить реальное поведение клиентов на основе этих данных."
   ]
  },
  {
   "cell_type": "code",
   "execution_count": 2,
   "id": "dff6def4-1ee4-4ddb-9268-9b4d776f8ab6",
   "metadata": {},
   "outputs": [],
   "source": [
    "pd.options.display.max_columns = 20"
   ]
  },
  {
   "cell_type": "code",
   "execution_count": 3,
   "id": "e84c5047-c8e8-4dbb-8766-16f97f126907",
   "metadata": {},
   "outputs": [
    {
     "name": "stdout",
     "output_type": "stream",
     "text": [
      "(10000, 18)\n"
     ]
    },
    {
     "data": {
      "text/html": [
       "<div>\n",
       "<style scoped>\n",
       "    .dataframe tbody tr th:only-of-type {\n",
       "        vertical-align: middle;\n",
       "    }\n",
       "\n",
       "    .dataframe tbody tr th {\n",
       "        vertical-align: top;\n",
       "    }\n",
       "\n",
       "    .dataframe thead th {\n",
       "        text-align: right;\n",
       "    }\n",
       "</style>\n",
       "<table border=\"1\" class=\"dataframe\">\n",
       "  <thead>\n",
       "    <tr style=\"text-align: right;\">\n",
       "      <th></th>\n",
       "      <th>AGE</th>\n",
       "      <th>GENDER</th>\n",
       "      <th>RACE</th>\n",
       "      <th>DRIVING_EXPERIENCE</th>\n",
       "      <th>EDUCATION</th>\n",
       "      <th>INCOME</th>\n",
       "      <th>CREDIT_SCORE</th>\n",
       "      <th>VEHICLE_OWNERSHIP</th>\n",
       "      <th>VEHICLE_YEAR</th>\n",
       "      <th>MARRIED</th>\n",
       "      <th>CHILDREN</th>\n",
       "      <th>POSTAL_CODE</th>\n",
       "      <th>ANNUAL_MILEAGE</th>\n",
       "      <th>VEHICLE_TYPE</th>\n",
       "      <th>SPEEDING_VIOLATIONS</th>\n",
       "      <th>DUIS</th>\n",
       "      <th>PAST_ACCIDENTS</th>\n",
       "      <th>OUTCOME</th>\n",
       "    </tr>\n",
       "  </thead>\n",
       "  <tbody>\n",
       "    <tr>\n",
       "      <th>0</th>\n",
       "      <td>65+</td>\n",
       "      <td>female</td>\n",
       "      <td>majority</td>\n",
       "      <td>0-9y</td>\n",
       "      <td>high school</td>\n",
       "      <td>upper class</td>\n",
       "      <td>0.629027</td>\n",
       "      <td>1.0</td>\n",
       "      <td>after 2015</td>\n",
       "      <td>0.0</td>\n",
       "      <td>1.0</td>\n",
       "      <td>10238</td>\n",
       "      <td>12000.0</td>\n",
       "      <td>sedan</td>\n",
       "      <td>0</td>\n",
       "      <td>0</td>\n",
       "      <td>0</td>\n",
       "      <td>0.0</td>\n",
       "    </tr>\n",
       "    <tr>\n",
       "      <th>1</th>\n",
       "      <td>16-25</td>\n",
       "      <td>male</td>\n",
       "      <td>majority</td>\n",
       "      <td>0-9y</td>\n",
       "      <td>none</td>\n",
       "      <td>poverty</td>\n",
       "      <td>0.357757</td>\n",
       "      <td>0.0</td>\n",
       "      <td>before 2015</td>\n",
       "      <td>0.0</td>\n",
       "      <td>0.0</td>\n",
       "      <td>10238</td>\n",
       "      <td>16000.0</td>\n",
       "      <td>sedan</td>\n",
       "      <td>0</td>\n",
       "      <td>0</td>\n",
       "      <td>0</td>\n",
       "      <td>1.0</td>\n",
       "    </tr>\n",
       "    <tr>\n",
       "      <th>2</th>\n",
       "      <td>16-25</td>\n",
       "      <td>female</td>\n",
       "      <td>majority</td>\n",
       "      <td>0-9y</td>\n",
       "      <td>high school</td>\n",
       "      <td>working class</td>\n",
       "      <td>0.493146</td>\n",
       "      <td>1.0</td>\n",
       "      <td>before 2015</td>\n",
       "      <td>0.0</td>\n",
       "      <td>0.0</td>\n",
       "      <td>10238</td>\n",
       "      <td>11000.0</td>\n",
       "      <td>sedan</td>\n",
       "      <td>0</td>\n",
       "      <td>0</td>\n",
       "      <td>0</td>\n",
       "      <td>0.0</td>\n",
       "    </tr>\n",
       "    <tr>\n",
       "      <th>3</th>\n",
       "      <td>16-25</td>\n",
       "      <td>male</td>\n",
       "      <td>majority</td>\n",
       "      <td>0-9y</td>\n",
       "      <td>university</td>\n",
       "      <td>working class</td>\n",
       "      <td>0.206013</td>\n",
       "      <td>1.0</td>\n",
       "      <td>before 2015</td>\n",
       "      <td>0.0</td>\n",
       "      <td>1.0</td>\n",
       "      <td>32765</td>\n",
       "      <td>11000.0</td>\n",
       "      <td>sedan</td>\n",
       "      <td>0</td>\n",
       "      <td>0</td>\n",
       "      <td>0</td>\n",
       "      <td>0.0</td>\n",
       "    </tr>\n",
       "    <tr>\n",
       "      <th>4</th>\n",
       "      <td>26-39</td>\n",
       "      <td>male</td>\n",
       "      <td>majority</td>\n",
       "      <td>10-19y</td>\n",
       "      <td>none</td>\n",
       "      <td>working class</td>\n",
       "      <td>0.388366</td>\n",
       "      <td>1.0</td>\n",
       "      <td>before 2015</td>\n",
       "      <td>0.0</td>\n",
       "      <td>0.0</td>\n",
       "      <td>32765</td>\n",
       "      <td>12000.0</td>\n",
       "      <td>sedan</td>\n",
       "      <td>2</td>\n",
       "      <td>0</td>\n",
       "      <td>1</td>\n",
       "      <td>1.0</td>\n",
       "    </tr>\n",
       "  </tbody>\n",
       "</table>\n",
       "</div>"
      ],
      "text/plain": [
       "     AGE  GENDER      RACE DRIVING_EXPERIENCE    EDUCATION         INCOME  \\\n",
       "0    65+  female  majority               0-9y  high school    upper class   \n",
       "1  16-25    male  majority               0-9y         none        poverty   \n",
       "2  16-25  female  majority               0-9y  high school  working class   \n",
       "3  16-25    male  majority               0-9y   university  working class   \n",
       "4  26-39    male  majority             10-19y         none  working class   \n",
       "\n",
       "   CREDIT_SCORE  VEHICLE_OWNERSHIP VEHICLE_YEAR  MARRIED  CHILDREN  \\\n",
       "0      0.629027                1.0   after 2015      0.0       1.0   \n",
       "1      0.357757                0.0  before 2015      0.0       0.0   \n",
       "2      0.493146                1.0  before 2015      0.0       0.0   \n",
       "3      0.206013                1.0  before 2015      0.0       1.0   \n",
       "4      0.388366                1.0  before 2015      0.0       0.0   \n",
       "\n",
       "   POSTAL_CODE  ANNUAL_MILEAGE VEHICLE_TYPE  SPEEDING_VIOLATIONS  DUIS  \\\n",
       "0        10238         12000.0        sedan                    0     0   \n",
       "1        10238         16000.0        sedan                    0     0   \n",
       "2        10238         11000.0        sedan                    0     0   \n",
       "3        32765         11000.0        sedan                    0     0   \n",
       "4        32765         12000.0        sedan                    2     0   \n",
       "\n",
       "   PAST_ACCIDENTS  OUTCOME  \n",
       "0               0      0.0  \n",
       "1               0      1.0  \n",
       "2               0      0.0  \n",
       "3               0      0.0  \n",
       "4               1      1.0  "
      ]
     },
     "execution_count": 3,
     "metadata": {},
     "output_type": "execute_result"
    }
   ],
   "source": [
    "df = pd.read_csv('Car_Insurance_Claim.csv').drop(['ID'], axis=1)\n",
    "print(df.shape)\n",
    "df.head()"
   ]
  },
  {
   "cell_type": "code",
   "execution_count": 4,
   "id": "04d7eb85-6824-4b6d-a729-9d5ec755d750",
   "metadata": {},
   "outputs": [
    {
     "name": "stdout",
     "output_type": "stream",
     "text": [
      "<class 'pandas.core.frame.DataFrame'>\n",
      "RangeIndex: 10000 entries, 0 to 9999\n",
      "Data columns (total 18 columns):\n",
      " #   Column               Non-Null Count  Dtype  \n",
      "---  ------               --------------  -----  \n",
      " 0   AGE                  10000 non-null  object \n",
      " 1   GENDER               10000 non-null  object \n",
      " 2   RACE                 10000 non-null  object \n",
      " 3   DRIVING_EXPERIENCE   10000 non-null  object \n",
      " 4   EDUCATION            10000 non-null  object \n",
      " 5   INCOME               10000 non-null  object \n",
      " 6   CREDIT_SCORE         9018 non-null   float64\n",
      " 7   VEHICLE_OWNERSHIP    10000 non-null  float64\n",
      " 8   VEHICLE_YEAR         10000 non-null  object \n",
      " 9   MARRIED              10000 non-null  float64\n",
      " 10  CHILDREN             10000 non-null  float64\n",
      " 11  POSTAL_CODE          10000 non-null  int64  \n",
      " 12  ANNUAL_MILEAGE       9043 non-null   float64\n",
      " 13  VEHICLE_TYPE         10000 non-null  object \n",
      " 14  SPEEDING_VIOLATIONS  10000 non-null  int64  \n",
      " 15  DUIS                 10000 non-null  int64  \n",
      " 16  PAST_ACCIDENTS       10000 non-null  int64  \n",
      " 17  OUTCOME              10000 non-null  float64\n",
      "dtypes: float64(6), int64(4), object(8)\n",
      "memory usage: 1.4+ MB\n"
     ]
    }
   ],
   "source": [
    "df.info()"
   ]
  },
  {
   "cell_type": "code",
   "execution_count": 5,
   "id": "155d8db8-5ec9-4556-ba43-ac8907c083d0",
   "metadata": {},
   "outputs": [],
   "source": [
    "df['OUTCOME'] = df['OUTCOME'].astype('int64')"
   ]
  },
  {
   "cell_type": "markdown",
   "id": "9ce2889e-6fab-4e4f-b5b5-1d5e386fe7fb",
   "metadata": {},
   "source": [
    "## Train-test split\n",
    "\n",
    "Разобьем данные на обучение и тест в соотношении 0.8:0.2."
   ]
  },
  {
   "cell_type": "code",
   "execution_count": 6,
   "id": "6ec4a778-a29b-4d5d-909e-8f592f4361c4",
   "metadata": {},
   "outputs": [
    {
     "name": "stdout",
     "output_type": "stream",
     "text": [
      "Train shape : (8000, 18)\n",
      "Test shape : (2000, 18)\n"
     ]
    }
   ],
   "source": [
    "from sklearn.model_selection import train_test_split\n",
    "\n",
    "df_train, df_test = train_test_split(df, test_size=0.2, random_state=42, stratify=df['OUTCOME'])\n",
    "\n",
    "print(f'Train shape : {df_train.shape}')\n",
    "print(f'Test shape : {df_test.shape}')"
   ]
  },
  {
   "cell_type": "markdown",
   "id": "0563c233-c51c-432b-9557-11debc619675",
   "metadata": {},
   "source": [
    "## Выделение целевой величины"
   ]
  },
  {
   "cell_type": "code",
   "execution_count": 7,
   "id": "a63f0d53-8782-4b7e-9680-dfd94a315eb8",
   "metadata": {},
   "outputs": [],
   "source": [
    "y_train_series = df_train['OUTCOME']\n",
    "df_train.drop(['OUTCOME'], axis=1, inplace=True)\n",
    "\n",
    "y_test_series = df_test['OUTCOME']\n",
    "df_test.drop(['OUTCOME'], axis=1, inplace=True)"
   ]
  },
  {
   "cell_type": "markdown",
   "id": "cd6419b3-0cf6-40b2-a377-2a48071e9e5f",
   "metadata": {},
   "source": [
    "## Обработка пропущенных значений\n",
    "\n",
    "Отобразим график пропущенных значений датасета."
   ]
  },
  {
   "cell_type": "code",
   "execution_count": 8,
   "id": "c8cb1c63-efac-4b8a-aa92-9cab331de3e5",
   "metadata": {},
   "outputs": [
    {
     "data": {
      "image/png": "[encoded data removed]",
      "text/plain": [
       "<Figure size 1152x720 with 1 Axes>"
      ]
     },
     "metadata": {
      "needs_background": "light"
     },
     "output_type": "display_data"
    }
   ],
   "source": [
    "fig, ax = plt.subplots(figsize=(16,10))\n",
    "sns.heatmap(df_train.isnull(), cbar=False, cmap=\"YlGnBu_r\")\n",
    "plt.show()"
   ]
  },
  {
   "cell_type": "markdown",
   "id": "44349ee6-75b9-4ae4-a7a7-52a4c9afb41c",
   "metadata": {},
   "source": [
    "На графике видно, что в признаках 'CREDIT_SCORE', 'ANNUAL_MILEAGE' содержатся пропущенные значения. Их надо обработать. Посмотрим на описательные статистики этих  признаков."
   ]
  },
  {
   "cell_type": "code",
   "execution_count": 9,
   "id": "91ef49dd-3e8f-4000-b7d9-26c37ce3b0e9",
   "metadata": {},
   "outputs": [
    {
     "data": {
      "text/html": [
       "<div>\n",
       "<style scoped>\n",
       "    .dataframe tbody tr th:only-of-type {\n",
       "        vertical-align: middle;\n",
       "    }\n",
       "\n",
       "    .dataframe tbody tr th {\n",
       "        vertical-align: top;\n",
       "    }\n",
       "\n",
       "    .dataframe thead th {\n",
       "        text-align: right;\n",
       "    }\n",
       "</style>\n",
       "<table border=\"1\" class=\"dataframe\">\n",
       "  <thead>\n",
       "    <tr style=\"text-align: right;\">\n",
       "      <th></th>\n",
       "      <th>CREDIT_SCORE</th>\n",
       "      <th>ANNUAL_MILEAGE</th>\n",
       "    </tr>\n",
       "  </thead>\n",
       "  <tbody>\n",
       "    <tr>\n",
       "      <th>count</th>\n",
       "      <td>7197.000000</td>\n",
       "      <td>7241.000000</td>\n",
       "    </tr>\n",
       "    <tr>\n",
       "      <th>mean</th>\n",
       "      <td>0.514950</td>\n",
       "      <td>11715.923215</td>\n",
       "    </tr>\n",
       "    <tr>\n",
       "      <th>std</th>\n",
       "      <td>0.137107</td>\n",
       "      <td>2828.394261</td>\n",
       "    </tr>\n",
       "    <tr>\n",
       "      <th>min</th>\n",
       "      <td>0.053358</td>\n",
       "      <td>2000.000000</td>\n",
       "    </tr>\n",
       "    <tr>\n",
       "      <th>25%</th>\n",
       "      <td>0.416935</td>\n",
       "      <td>10000.000000</td>\n",
       "    </tr>\n",
       "    <tr>\n",
       "      <th>50%</th>\n",
       "      <td>0.524191</td>\n",
       "      <td>12000.000000</td>\n",
       "    </tr>\n",
       "    <tr>\n",
       "      <th>75%</th>\n",
       "      <td>0.617009</td>\n",
       "      <td>14000.000000</td>\n",
       "    </tr>\n",
       "    <tr>\n",
       "      <th>max</th>\n",
       "      <td>0.915883</td>\n",
       "      <td>22000.000000</td>\n",
       "    </tr>\n",
       "  </tbody>\n",
       "</table>\n",
       "</div>"
      ],
      "text/plain": [
       "       CREDIT_SCORE  ANNUAL_MILEAGE\n",
       "count   7197.000000     7241.000000\n",
       "mean       0.514950    11715.923215\n",
       "std        0.137107     2828.394261\n",
       "min        0.053358     2000.000000\n",
       "25%        0.416935    10000.000000\n",
       "50%        0.524191    12000.000000\n",
       "75%        0.617009    14000.000000\n",
       "max        0.915883    22000.000000"
      ]
     },
     "execution_count": 9,
     "metadata": {},
     "output_type": "execute_result"
    }
   ],
   "source": [
    "df_train[['CREDIT_SCORE', 'ANNUAL_MILEAGE']].describe()"
   ]
  },
  {
   "cell_type": "markdown",
   "id": "a8cd0ffd-ad60-42cf-b22e-99bf58e7d084",
   "metadata": {},
   "source": [
    "Исходя из процентилей, мне кажется, логичным будет заменить пропущенные значения в каждом признаке на медианное значение, так как медиана более устойчива к выброса. Сделаем это с помощью SimpleImputer."
   ]
  },
  {
   "cell_type": "code",
   "execution_count": 10,
   "id": "2ab84cd6-5d4e-414b-a15a-390a539d5cae",
   "metadata": {},
   "outputs": [
    {
     "data": {
      "text/plain": [
       "array([5.24190617e-01, 1.20000000e+04])"
      ]
     },
     "execution_count": 10,
     "metadata": {},
     "output_type": "execute_result"
    }
   ],
   "source": [
    "from sklearn.impute import SimpleImputer\n",
    "\n",
    "cols_to_fill = ['CREDIT_SCORE', 'ANNUAL_MILEAGE']\n",
    "to_fill_train = np.array(df_train[cols_to_fill])\n",
    "\n",
    "imp = SimpleImputer(strategy='median')\n",
    "\n",
    "fill_result_train = imp.fit_transform(to_fill_train)\n",
    "\n",
    "imp.statistics_"
   ]
  },
  {
   "cell_type": "code",
   "execution_count": 11,
   "id": "b5261d7b-a276-4646-b3bd-0c6a947aec9e",
   "metadata": {},
   "outputs": [
    {
     "data": {
      "text/html": [
       "<div>\n",
       "<style scoped>\n",
       "    .dataframe tbody tr th:only-of-type {\n",
       "        vertical-align: middle;\n",
       "    }\n",
       "\n",
       "    .dataframe tbody tr th {\n",
       "        vertical-align: top;\n",
       "    }\n",
       "\n",
       "    .dataframe thead th {\n",
       "        text-align: right;\n",
       "    }\n",
       "</style>\n",
       "<table border=\"1\" class=\"dataframe\">\n",
       "  <thead>\n",
       "    <tr style=\"text-align: right;\">\n",
       "      <th></th>\n",
       "      <th>AGE</th>\n",
       "      <th>GENDER</th>\n",
       "      <th>RACE</th>\n",
       "      <th>DRIVING_EXPERIENCE</th>\n",
       "      <th>EDUCATION</th>\n",
       "      <th>INCOME</th>\n",
       "      <th>CREDIT_SCORE</th>\n",
       "      <th>VEHICLE_OWNERSHIP</th>\n",
       "      <th>VEHICLE_YEAR</th>\n",
       "      <th>MARRIED</th>\n",
       "      <th>CHILDREN</th>\n",
       "      <th>POSTAL_CODE</th>\n",
       "      <th>ANNUAL_MILEAGE</th>\n",
       "      <th>VEHICLE_TYPE</th>\n",
       "      <th>SPEEDING_VIOLATIONS</th>\n",
       "      <th>DUIS</th>\n",
       "      <th>PAST_ACCIDENTS</th>\n",
       "    </tr>\n",
       "  </thead>\n",
       "  <tbody>\n",
       "    <tr>\n",
       "      <th>4875</th>\n",
       "      <td>26-39</td>\n",
       "      <td>female</td>\n",
       "      <td>minority</td>\n",
       "      <td>10-19y</td>\n",
       "      <td>university</td>\n",
       "      <td>upper class</td>\n",
       "      <td>0.712351</td>\n",
       "      <td>0.0</td>\n",
       "      <td>after 2015</td>\n",
       "      <td>0.0</td>\n",
       "      <td>0.0</td>\n",
       "      <td>10238</td>\n",
       "      <td>16000.0</td>\n",
       "      <td>sedan</td>\n",
       "      <td>0</td>\n",
       "      <td>0</td>\n",
       "      <td>0</td>\n",
       "    </tr>\n",
       "    <tr>\n",
       "      <th>2191</th>\n",
       "      <td>65+</td>\n",
       "      <td>female</td>\n",
       "      <td>majority</td>\n",
       "      <td>0-9y</td>\n",
       "      <td>university</td>\n",
       "      <td>upper class</td>\n",
       "      <td>0.533479</td>\n",
       "      <td>1.0</td>\n",
       "      <td>before 2015</td>\n",
       "      <td>1.0</td>\n",
       "      <td>1.0</td>\n",
       "      <td>10238</td>\n",
       "      <td>8000.0</td>\n",
       "      <td>sedan</td>\n",
       "      <td>0</td>\n",
       "      <td>0</td>\n",
       "      <td>0</td>\n",
       "    </tr>\n",
       "    <tr>\n",
       "      <th>2271</th>\n",
       "      <td>40-64</td>\n",
       "      <td>female</td>\n",
       "      <td>minority</td>\n",
       "      <td>10-19y</td>\n",
       "      <td>university</td>\n",
       "      <td>upper class</td>\n",
       "      <td>0.694596</td>\n",
       "      <td>1.0</td>\n",
       "      <td>after 2015</td>\n",
       "      <td>0.0</td>\n",
       "      <td>1.0</td>\n",
       "      <td>10238</td>\n",
       "      <td>12000.0</td>\n",
       "      <td>sedan</td>\n",
       "      <td>0</td>\n",
       "      <td>0</td>\n",
       "      <td>0</td>\n",
       "    </tr>\n",
       "    <tr>\n",
       "      <th>7184</th>\n",
       "      <td>26-39</td>\n",
       "      <td>female</td>\n",
       "      <td>majority</td>\n",
       "      <td>10-19y</td>\n",
       "      <td>university</td>\n",
       "      <td>upper class</td>\n",
       "      <td>0.515658</td>\n",
       "      <td>0.0</td>\n",
       "      <td>before 2015</td>\n",
       "      <td>0.0</td>\n",
       "      <td>1.0</td>\n",
       "      <td>10238</td>\n",
       "      <td>15000.0</td>\n",
       "      <td>sedan</td>\n",
       "      <td>0</td>\n",
       "      <td>0</td>\n",
       "      <td>1</td>\n",
       "    </tr>\n",
       "    <tr>\n",
       "      <th>3910</th>\n",
       "      <td>40-64</td>\n",
       "      <td>female</td>\n",
       "      <td>majority</td>\n",
       "      <td>20-29y</td>\n",
       "      <td>high school</td>\n",
       "      <td>upper class</td>\n",
       "      <td>0.537726</td>\n",
       "      <td>0.0</td>\n",
       "      <td>before 2015</td>\n",
       "      <td>1.0</td>\n",
       "      <td>1.0</td>\n",
       "      <td>32765</td>\n",
       "      <td>6000.0</td>\n",
       "      <td>sedan</td>\n",
       "      <td>3</td>\n",
       "      <td>2</td>\n",
       "      <td>1</td>\n",
       "    </tr>\n",
       "  </tbody>\n",
       "</table>\n",
       "</div>"
      ],
      "text/plain": [
       "        AGE  GENDER      RACE DRIVING_EXPERIENCE    EDUCATION       INCOME  \\\n",
       "4875  26-39  female  minority             10-19y   university  upper class   \n",
       "2191    65+  female  majority               0-9y   university  upper class   \n",
       "2271  40-64  female  minority             10-19y   university  upper class   \n",
       "7184  26-39  female  majority             10-19y   university  upper class   \n",
       "3910  40-64  female  majority             20-29y  high school  upper class   \n",
       "\n",
       "      CREDIT_SCORE  VEHICLE_OWNERSHIP VEHICLE_YEAR  MARRIED  CHILDREN  \\\n",
       "4875      0.712351                0.0   after 2015      0.0       0.0   \n",
       "2191      0.533479                1.0  before 2015      1.0       1.0   \n",
       "2271      0.694596                1.0   after 2015      0.0       1.0   \n",
       "7184      0.515658                0.0  before 2015      0.0       1.0   \n",
       "3910      0.537726                0.0  before 2015      1.0       1.0   \n",
       "\n",
       "      POSTAL_CODE  ANNUAL_MILEAGE VEHICLE_TYPE  SPEEDING_VIOLATIONS  DUIS  \\\n",
       "4875        10238         16000.0        sedan                    0     0   \n",
       "2191        10238          8000.0        sedan                    0     0   \n",
       "2271        10238         12000.0        sedan                    0     0   \n",
       "7184        10238         15000.0        sedan                    0     0   \n",
       "3910        32765          6000.0        sedan                    3     2   \n",
       "\n",
       "      PAST_ACCIDENTS  \n",
       "4875               0  \n",
       "2191               0  \n",
       "2271               0  \n",
       "7184               1  \n",
       "3910               1  "
      ]
     },
     "execution_count": 11,
     "metadata": {},
     "output_type": "execute_result"
    }
   ],
   "source": [
    "df_train[cols_to_fill] = fill_result_train\n",
    "df_train.head()"
   ]
  },
  {
   "cell_type": "markdown",
   "id": "6173ef58-4223-42c3-951e-94d5d231aa5b",
   "metadata": {},
   "source": [
    "Снова построим график выбросов в датасете."
   ]
  },
  {
   "cell_type": "code",
   "execution_count": 12,
   "id": "523714fa-e363-45bb-a3b7-d1f955064916",
   "metadata": {},
   "outputs": [
    {
     "data": {
      "image/png": "[encoded data removed]",
      "text/plain": [
       "<Figure size 1152x720 with 1 Axes>"
      ]
     },
     "metadata": {
      "needs_background": "light"
     },
     "output_type": "display_data"
    }
   ],
   "source": [
    "fig, ax = plt.subplots(figsize=(16,10))\n",
    "sns.heatmap(df_train.isnull(), cbar=False, cmap=\"YlGnBu_r\")\n",
    "plt.show()"
   ]
  },
  {
   "cell_type": "markdown",
   "id": "8abb9f90-182f-474a-9e03-5a59e7d2772c",
   "metadata": {},
   "source": [
    "Видно, что все выбросы почистили. Повторим те же действия для тестовой выборки, используя уже обученный SimpleImputer."
   ]
  },
  {
   "cell_type": "code",
   "execution_count": 13,
   "id": "1eccb232-9523-43c7-9cdb-cc50a4233d32",
   "metadata": {},
   "outputs": [
    {
     "data": {
      "text/html": [
       "<div>\n",
       "<style scoped>\n",
       "    .dataframe tbody tr th:only-of-type {\n",
       "        vertical-align: middle;\n",
       "    }\n",
       "\n",
       "    .dataframe tbody tr th {\n",
       "        vertical-align: top;\n",
       "    }\n",
       "\n",
       "    .dataframe thead th {\n",
       "        text-align: right;\n",
       "    }\n",
       "</style>\n",
       "<table border=\"1\" class=\"dataframe\">\n",
       "  <thead>\n",
       "    <tr style=\"text-align: right;\">\n",
       "      <th></th>\n",
       "      <th>AGE</th>\n",
       "      <th>GENDER</th>\n",
       "      <th>RACE</th>\n",
       "      <th>DRIVING_EXPERIENCE</th>\n",
       "      <th>EDUCATION</th>\n",
       "      <th>INCOME</th>\n",
       "      <th>CREDIT_SCORE</th>\n",
       "      <th>VEHICLE_OWNERSHIP</th>\n",
       "      <th>VEHICLE_YEAR</th>\n",
       "      <th>MARRIED</th>\n",
       "      <th>CHILDREN</th>\n",
       "      <th>POSTAL_CODE</th>\n",
       "      <th>ANNUAL_MILEAGE</th>\n",
       "      <th>VEHICLE_TYPE</th>\n",
       "      <th>SPEEDING_VIOLATIONS</th>\n",
       "      <th>DUIS</th>\n",
       "      <th>PAST_ACCIDENTS</th>\n",
       "    </tr>\n",
       "  </thead>\n",
       "  <tbody>\n",
       "    <tr>\n",
       "      <th>7205</th>\n",
       "      <td>26-39</td>\n",
       "      <td>male</td>\n",
       "      <td>majority</td>\n",
       "      <td>10-19y</td>\n",
       "      <td>university</td>\n",
       "      <td>middle class</td>\n",
       "      <td>0.437373</td>\n",
       "      <td>0.0</td>\n",
       "      <td>after 2015</td>\n",
       "      <td>1.0</td>\n",
       "      <td>0.0</td>\n",
       "      <td>10238</td>\n",
       "      <td>14000.0</td>\n",
       "      <td>sedan</td>\n",
       "      <td>2</td>\n",
       "      <td>0</td>\n",
       "      <td>2</td>\n",
       "    </tr>\n",
       "    <tr>\n",
       "      <th>3658</th>\n",
       "      <td>65+</td>\n",
       "      <td>female</td>\n",
       "      <td>majority</td>\n",
       "      <td>30y+</td>\n",
       "      <td>university</td>\n",
       "      <td>upper class</td>\n",
       "      <td>0.708114</td>\n",
       "      <td>1.0</td>\n",
       "      <td>after 2015</td>\n",
       "      <td>1.0</td>\n",
       "      <td>1.0</td>\n",
       "      <td>10238</td>\n",
       "      <td>9000.0</td>\n",
       "      <td>sedan</td>\n",
       "      <td>2</td>\n",
       "      <td>0</td>\n",
       "      <td>1</td>\n",
       "    </tr>\n",
       "    <tr>\n",
       "      <th>6489</th>\n",
       "      <td>26-39</td>\n",
       "      <td>female</td>\n",
       "      <td>majority</td>\n",
       "      <td>0-9y</td>\n",
       "      <td>none</td>\n",
       "      <td>poverty</td>\n",
       "      <td>0.205296</td>\n",
       "      <td>1.0</td>\n",
       "      <td>before 2015</td>\n",
       "      <td>0.0</td>\n",
       "      <td>0.0</td>\n",
       "      <td>32765</td>\n",
       "      <td>12000.0</td>\n",
       "      <td>sedan</td>\n",
       "      <td>0</td>\n",
       "      <td>0</td>\n",
       "      <td>0</td>\n",
       "    </tr>\n",
       "    <tr>\n",
       "      <th>7695</th>\n",
       "      <td>16-25</td>\n",
       "      <td>male</td>\n",
       "      <td>majority</td>\n",
       "      <td>0-9y</td>\n",
       "      <td>high school</td>\n",
       "      <td>working class</td>\n",
       "      <td>0.370227</td>\n",
       "      <td>1.0</td>\n",
       "      <td>before 2015</td>\n",
       "      <td>0.0</td>\n",
       "      <td>0.0</td>\n",
       "      <td>10238</td>\n",
       "      <td>14000.0</td>\n",
       "      <td>sedan</td>\n",
       "      <td>0</td>\n",
       "      <td>0</td>\n",
       "      <td>0</td>\n",
       "    </tr>\n",
       "    <tr>\n",
       "      <th>389</th>\n",
       "      <td>26-39</td>\n",
       "      <td>male</td>\n",
       "      <td>majority</td>\n",
       "      <td>0-9y</td>\n",
       "      <td>high school</td>\n",
       "      <td>middle class</td>\n",
       "      <td>0.461156</td>\n",
       "      <td>1.0</td>\n",
       "      <td>after 2015</td>\n",
       "      <td>0.0</td>\n",
       "      <td>1.0</td>\n",
       "      <td>10238</td>\n",
       "      <td>12000.0</td>\n",
       "      <td>sedan</td>\n",
       "      <td>0</td>\n",
       "      <td>0</td>\n",
       "      <td>0</td>\n",
       "    </tr>\n",
       "  </tbody>\n",
       "</table>\n",
       "</div>"
      ],
      "text/plain": [
       "        AGE  GENDER      RACE DRIVING_EXPERIENCE    EDUCATION         INCOME  \\\n",
       "7205  26-39    male  majority             10-19y   university   middle class   \n",
       "3658    65+  female  majority               30y+   university    upper class   \n",
       "6489  26-39  female  majority               0-9y         none        poverty   \n",
       "7695  16-25    male  majority               0-9y  high school  working class   \n",
       "389   26-39    male  majority               0-9y  high school   middle class   \n",
       "\n",
       "      CREDIT_SCORE  VEHICLE_OWNERSHIP VEHICLE_YEAR  MARRIED  CHILDREN  \\\n",
       "7205      0.437373                0.0   after 2015      1.0       0.0   \n",
       "3658      0.708114                1.0   after 2015      1.0       1.0   \n",
       "6489      0.205296                1.0  before 2015      0.0       0.0   \n",
       "7695      0.370227                1.0  before 2015      0.0       0.0   \n",
       "389       0.461156                1.0   after 2015      0.0       1.0   \n",
       "\n",
       "      POSTAL_CODE  ANNUAL_MILEAGE VEHICLE_TYPE  SPEEDING_VIOLATIONS  DUIS  \\\n",
       "7205        10238         14000.0        sedan                    2     0   \n",
       "3658        10238          9000.0        sedan                    2     0   \n",
       "6489        32765         12000.0        sedan                    0     0   \n",
       "7695        10238         14000.0        sedan                    0     0   \n",
       "389         10238         12000.0        sedan                    0     0   \n",
       "\n",
       "      PAST_ACCIDENTS  \n",
       "7205               2  \n",
       "3658               1  \n",
       "6489               0  \n",
       "7695               0  \n",
       "389                0  "
      ]
     },
     "execution_count": 13,
     "metadata": {},
     "output_type": "execute_result"
    }
   ],
   "source": [
    "to_fill_test = np.array(df_test[cols_to_fill])\n",
    "fill_result_test = imp.transform(to_fill_test)\n",
    "\n",
    "df_test[cols_to_fill] = fill_result_test\n",
    "df_test.head()"
   ]
  },
  {
   "cell_type": "markdown",
   "id": "6e367b66-c400-4654-b029-2df505f5a584",
   "metadata": {},
   "source": [
    "## Баланс целевой величины\n",
    "\n",
    "Проверим баланс целевой величины"
   ]
  },
  {
   "cell_type": "code",
   "execution_count": 14,
   "id": "5a1a60a2-a563-47be-a35b-ba26381df2fd",
   "metadata": {},
   "outputs": [
    {
     "data": {
      "image/png": "[encoded data removed]",
      "text/plain": [
       "<Figure size 576x432 with 1 Axes>"
      ]
     },
     "metadata": {
      "needs_background": "light"
     },
     "output_type": "display_data"
    }
   ],
   "source": [
    "plt.figure(figsize=(8,6))\n",
    "plt.title('Target value balance')\n",
    "sns.histplot(data=y_train_series)\n",
    "plt.xticks((0,1))\n",
    "plt.show()"
   ]
  },
  {
   "cell_type": "markdown",
   "id": "222c0125-cf14-4cb1-a9bb-e3ccea7b6f14",
   "metadata": {},
   "source": [
    "Данные не сбалансированы по целевой величине. Будем оценивать качество по репрезентативной в данном случае метрике f1, а также укажем параметр class_weights = 'balanced' для алгоритма."
   ]
  },
  {
   "cell_type": "markdown",
   "id": "a5e2820b-d1ca-42a3-a123-711febdcc8f5",
   "metadata": {},
   "source": [
    "## OrdinalEncoder\n",
    "\n",
    "Для кодировки категориальных признаков сначала было решено использовать OrdinalEncoder из библиотеки category_encoders без указания отношений порядка. Изначально хотел использовать LabelEncoder из sklearn, но в category_encoders удобнее интерфейс, так можно сразу применить ко всему датасету. Если не указывать отношения порядка, OrdinalEncoder эквивалентен LabelEncoder.\n",
    "\n",
    "OrdinalEncoder кодирует значение категориального признака целым числом. Метод плох тем, что создаёт в датасете отношения порядка между значениями категориальных признаков, которых в исходном датасете могло не быть (1<2<3 и т.д). Но для бейслайна я думаю сойдёт.\n",
    "\n",
    "Отметим, что кодировщик обучается только на обучающей выборке, для валидации используем метод transform, чтобы имитировать тест (новые данные, которых мы пока не видели)"
   ]
  },
  {
   "cell_type": "code",
   "execution_count": 15,
   "id": "6e0c3dc6-b444-46cf-a6f4-9c26f91c10da",
   "metadata": {},
   "outputs": [
    {
     "data": {
      "text/plain": [
       "['AGE',\n",
       " 'GENDER',\n",
       " 'RACE',\n",
       " 'DRIVING_EXPERIENCE',\n",
       " 'EDUCATION',\n",
       " 'INCOME',\n",
       " 'VEHICLE_YEAR',\n",
       " 'VEHICLE_TYPE']"
      ]
     },
     "execution_count": 15,
     "metadata": {},
     "output_type": "execute_result"
    }
   ],
   "source": [
    "cat_columns = list(df_train.select_dtypes('object').columns)\n",
    "cat_columns"
   ]
  },
  {
   "cell_type": "code",
   "execution_count": 16,
   "id": "94907bd6-fc9e-4387-be9e-cd8178bcd191",
   "metadata": {},
   "outputs": [
    {
     "name": "stdout",
     "output_type": "stream",
     "text": [
      "(8000, 17)\n"
     ]
    },
    {
     "data": {
      "text/html": [
       "<div>\n",
       "<style scoped>\n",
       "    .dataframe tbody tr th:only-of-type {\n",
       "        vertical-align: middle;\n",
       "    }\n",
       "\n",
       "    .dataframe tbody tr th {\n",
       "        vertical-align: top;\n",
       "    }\n",
       "\n",
       "    .dataframe thead th {\n",
       "        text-align: right;\n",
       "    }\n",
       "</style>\n",
       "<table border=\"1\" class=\"dataframe\">\n",
       "  <thead>\n",
       "    <tr style=\"text-align: right;\">\n",
       "      <th></th>\n",
       "      <th>AGE</th>\n",
       "      <th>GENDER</th>\n",
       "      <th>RACE</th>\n",
       "      <th>DRIVING_EXPERIENCE</th>\n",
       "      <th>EDUCATION</th>\n",
       "      <th>INCOME</th>\n",
       "      <th>CREDIT_SCORE</th>\n",
       "      <th>VEHICLE_OWNERSHIP</th>\n",
       "      <th>VEHICLE_YEAR</th>\n",
       "      <th>MARRIED</th>\n",
       "      <th>CHILDREN</th>\n",
       "      <th>POSTAL_CODE</th>\n",
       "      <th>ANNUAL_MILEAGE</th>\n",
       "      <th>VEHICLE_TYPE</th>\n",
       "      <th>SPEEDING_VIOLATIONS</th>\n",
       "      <th>DUIS</th>\n",
       "      <th>PAST_ACCIDENTS</th>\n",
       "    </tr>\n",
       "  </thead>\n",
       "  <tbody>\n",
       "    <tr>\n",
       "      <th>4875</th>\n",
       "      <td>1</td>\n",
       "      <td>1</td>\n",
       "      <td>1</td>\n",
       "      <td>1</td>\n",
       "      <td>1</td>\n",
       "      <td>1</td>\n",
       "      <td>0.712351</td>\n",
       "      <td>0.0</td>\n",
       "      <td>1</td>\n",
       "      <td>0.0</td>\n",
       "      <td>0.0</td>\n",
       "      <td>10238</td>\n",
       "      <td>16000.0</td>\n",
       "      <td>1</td>\n",
       "      <td>0</td>\n",
       "      <td>0</td>\n",
       "      <td>0</td>\n",
       "    </tr>\n",
       "    <tr>\n",
       "      <th>2191</th>\n",
       "      <td>2</td>\n",
       "      <td>1</td>\n",
       "      <td>2</td>\n",
       "      <td>2</td>\n",
       "      <td>1</td>\n",
       "      <td>1</td>\n",
       "      <td>0.533479</td>\n",
       "      <td>1.0</td>\n",
       "      <td>2</td>\n",
       "      <td>1.0</td>\n",
       "      <td>1.0</td>\n",
       "      <td>10238</td>\n",
       "      <td>8000.0</td>\n",
       "      <td>1</td>\n",
       "      <td>0</td>\n",
       "      <td>0</td>\n",
       "      <td>0</td>\n",
       "    </tr>\n",
       "    <tr>\n",
       "      <th>2271</th>\n",
       "      <td>3</td>\n",
       "      <td>1</td>\n",
       "      <td>1</td>\n",
       "      <td>1</td>\n",
       "      <td>1</td>\n",
       "      <td>1</td>\n",
       "      <td>0.694596</td>\n",
       "      <td>1.0</td>\n",
       "      <td>1</td>\n",
       "      <td>0.0</td>\n",
       "      <td>1.0</td>\n",
       "      <td>10238</td>\n",
       "      <td>12000.0</td>\n",
       "      <td>1</td>\n",
       "      <td>0</td>\n",
       "      <td>0</td>\n",
       "      <td>0</td>\n",
       "    </tr>\n",
       "    <tr>\n",
       "      <th>7184</th>\n",
       "      <td>1</td>\n",
       "      <td>1</td>\n",
       "      <td>2</td>\n",
       "      <td>1</td>\n",
       "      <td>1</td>\n",
       "      <td>1</td>\n",
       "      <td>0.515658</td>\n",
       "      <td>0.0</td>\n",
       "      <td>2</td>\n",
       "      <td>0.0</td>\n",
       "      <td>1.0</td>\n",
       "      <td>10238</td>\n",
       "      <td>15000.0</td>\n",
       "      <td>1</td>\n",
       "      <td>0</td>\n",
       "      <td>0</td>\n",
       "      <td>1</td>\n",
       "    </tr>\n",
       "    <tr>\n",
       "      <th>3910</th>\n",
       "      <td>3</td>\n",
       "      <td>1</td>\n",
       "      <td>2</td>\n",
       "      <td>3</td>\n",
       "      <td>2</td>\n",
       "      <td>1</td>\n",
       "      <td>0.537726</td>\n",
       "      <td>0.0</td>\n",
       "      <td>2</td>\n",
       "      <td>1.0</td>\n",
       "      <td>1.0</td>\n",
       "      <td>32765</td>\n",
       "      <td>6000.0</td>\n",
       "      <td>1</td>\n",
       "      <td>3</td>\n",
       "      <td>2</td>\n",
       "      <td>1</td>\n",
       "    </tr>\n",
       "  </tbody>\n",
       "</table>\n",
       "</div>"
      ],
      "text/plain": [
       "      AGE  GENDER  RACE  DRIVING_EXPERIENCE  EDUCATION  INCOME  CREDIT_SCORE  \\\n",
       "4875    1       1     1                   1          1       1      0.712351   \n",
       "2191    2       1     2                   2          1       1      0.533479   \n",
       "2271    3       1     1                   1          1       1      0.694596   \n",
       "7184    1       1     2                   1          1       1      0.515658   \n",
       "3910    3       1     2                   3          2       1      0.537726   \n",
       "\n",
       "      VEHICLE_OWNERSHIP  VEHICLE_YEAR  MARRIED  CHILDREN  POSTAL_CODE  \\\n",
       "4875                0.0             1      0.0       0.0        10238   \n",
       "2191                1.0             2      1.0       1.0        10238   \n",
       "2271                1.0             1      0.0       1.0        10238   \n",
       "7184                0.0             2      0.0       1.0        10238   \n",
       "3910                0.0             2      1.0       1.0        32765   \n",
       "\n",
       "      ANNUAL_MILEAGE  VEHICLE_TYPE  SPEEDING_VIOLATIONS  DUIS  PAST_ACCIDENTS  \n",
       "4875         16000.0             1                    0     0               0  \n",
       "2191          8000.0             1                    0     0               0  \n",
       "2271         12000.0             1                    0     0               0  \n",
       "7184         15000.0             1                    0     0               1  \n",
       "3910          6000.0             1                    3     2               1  "
      ]
     },
     "execution_count": 16,
     "metadata": {},
     "output_type": "execute_result"
    }
   ],
   "source": [
    "from category_encoders import OrdinalEncoder\n",
    "\n",
    "encoder = OrdinalEncoder(cols = cat_columns)\n",
    "df_train_encoded = encoder.fit_transform(df_train)\n",
    "print(df_train_encoded.shape)\n",
    "df_train_encoded.head()"
   ]
  },
  {
   "cell_type": "markdown",
   "id": "d9389c5b-447e-4bc0-a585-e573d22b3079",
   "metadata": {},
   "source": [
    "Повторим для обучающей выборки с уже обученным Encoder"
   ]
  },
  {
   "cell_type": "code",
   "execution_count": 17,
   "id": "46afae47-9c6b-457d-91bc-0dd0feb00816",
   "metadata": {},
   "outputs": [
    {
     "name": "stdout",
     "output_type": "stream",
     "text": [
      "(2000, 17)\n"
     ]
    },
    {
     "data": {
      "text/html": [
       "<div>\n",
       "<style scoped>\n",
       "    .dataframe tbody tr th:only-of-type {\n",
       "        vertical-align: middle;\n",
       "    }\n",
       "\n",
       "    .dataframe tbody tr th {\n",
       "        vertical-align: top;\n",
       "    }\n",
       "\n",
       "    .dataframe thead th {\n",
       "        text-align: right;\n",
       "    }\n",
       "</style>\n",
       "<table border=\"1\" class=\"dataframe\">\n",
       "  <thead>\n",
       "    <tr style=\"text-align: right;\">\n",
       "      <th></th>\n",
       "      <th>AGE</th>\n",
       "      <th>GENDER</th>\n",
       "      <th>RACE</th>\n",
       "      <th>DRIVING_EXPERIENCE</th>\n",
       "      <th>EDUCATION</th>\n",
       "      <th>INCOME</th>\n",
       "      <th>CREDIT_SCORE</th>\n",
       "      <th>VEHICLE_OWNERSHIP</th>\n",
       "      <th>VEHICLE_YEAR</th>\n",
       "      <th>MARRIED</th>\n",
       "      <th>CHILDREN</th>\n",
       "      <th>POSTAL_CODE</th>\n",
       "      <th>ANNUAL_MILEAGE</th>\n",
       "      <th>VEHICLE_TYPE</th>\n",
       "      <th>SPEEDING_VIOLATIONS</th>\n",
       "      <th>DUIS</th>\n",
       "      <th>PAST_ACCIDENTS</th>\n",
       "    </tr>\n",
       "  </thead>\n",
       "  <tbody>\n",
       "    <tr>\n",
       "      <th>7205</th>\n",
       "      <td>1</td>\n",
       "      <td>2</td>\n",
       "      <td>2</td>\n",
       "      <td>1</td>\n",
       "      <td>1</td>\n",
       "      <td>2</td>\n",
       "      <td>0.437373</td>\n",
       "      <td>0.0</td>\n",
       "      <td>1</td>\n",
       "      <td>1.0</td>\n",
       "      <td>0.0</td>\n",
       "      <td>10238</td>\n",
       "      <td>14000.0</td>\n",
       "      <td>1</td>\n",
       "      <td>2</td>\n",
       "      <td>0</td>\n",
       "      <td>2</td>\n",
       "    </tr>\n",
       "    <tr>\n",
       "      <th>3658</th>\n",
       "      <td>2</td>\n",
       "      <td>1</td>\n",
       "      <td>2</td>\n",
       "      <td>4</td>\n",
       "      <td>1</td>\n",
       "      <td>1</td>\n",
       "      <td>0.708114</td>\n",
       "      <td>1.0</td>\n",
       "      <td>1</td>\n",
       "      <td>1.0</td>\n",
       "      <td>1.0</td>\n",
       "      <td>10238</td>\n",
       "      <td>9000.0</td>\n",
       "      <td>1</td>\n",
       "      <td>2</td>\n",
       "      <td>0</td>\n",
       "      <td>1</td>\n",
       "    </tr>\n",
       "    <tr>\n",
       "      <th>6489</th>\n",
       "      <td>1</td>\n",
       "      <td>1</td>\n",
       "      <td>2</td>\n",
       "      <td>2</td>\n",
       "      <td>3</td>\n",
       "      <td>4</td>\n",
       "      <td>0.205296</td>\n",
       "      <td>1.0</td>\n",
       "      <td>2</td>\n",
       "      <td>0.0</td>\n",
       "      <td>0.0</td>\n",
       "      <td>32765</td>\n",
       "      <td>12000.0</td>\n",
       "      <td>1</td>\n",
       "      <td>0</td>\n",
       "      <td>0</td>\n",
       "      <td>0</td>\n",
       "    </tr>\n",
       "    <tr>\n",
       "      <th>7695</th>\n",
       "      <td>4</td>\n",
       "      <td>2</td>\n",
       "      <td>2</td>\n",
       "      <td>2</td>\n",
       "      <td>2</td>\n",
       "      <td>3</td>\n",
       "      <td>0.370227</td>\n",
       "      <td>1.0</td>\n",
       "      <td>2</td>\n",
       "      <td>0.0</td>\n",
       "      <td>0.0</td>\n",
       "      <td>10238</td>\n",
       "      <td>14000.0</td>\n",
       "      <td>1</td>\n",
       "      <td>0</td>\n",
       "      <td>0</td>\n",
       "      <td>0</td>\n",
       "    </tr>\n",
       "    <tr>\n",
       "      <th>389</th>\n",
       "      <td>1</td>\n",
       "      <td>2</td>\n",
       "      <td>2</td>\n",
       "      <td>2</td>\n",
       "      <td>2</td>\n",
       "      <td>2</td>\n",
       "      <td>0.461156</td>\n",
       "      <td>1.0</td>\n",
       "      <td>1</td>\n",
       "      <td>0.0</td>\n",
       "      <td>1.0</td>\n",
       "      <td>10238</td>\n",
       "      <td>12000.0</td>\n",
       "      <td>1</td>\n",
       "      <td>0</td>\n",
       "      <td>0</td>\n",
       "      <td>0</td>\n",
       "    </tr>\n",
       "  </tbody>\n",
       "</table>\n",
       "</div>"
      ],
      "text/plain": [
       "      AGE  GENDER  RACE  DRIVING_EXPERIENCE  EDUCATION  INCOME  CREDIT_SCORE  \\\n",
       "7205    1       2     2                   1          1       2      0.437373   \n",
       "3658    2       1     2                   4          1       1      0.708114   \n",
       "6489    1       1     2                   2          3       4      0.205296   \n",
       "7695    4       2     2                   2          2       3      0.370227   \n",
       "389     1       2     2                   2          2       2      0.461156   \n",
       "\n",
       "      VEHICLE_OWNERSHIP  VEHICLE_YEAR  MARRIED  CHILDREN  POSTAL_CODE  \\\n",
       "7205                0.0             1      1.0       0.0        10238   \n",
       "3658                1.0             1      1.0       1.0        10238   \n",
       "6489                1.0             2      0.0       0.0        32765   \n",
       "7695                1.0             2      0.0       0.0        10238   \n",
       "389                 1.0             1      0.0       1.0        10238   \n",
       "\n",
       "      ANNUAL_MILEAGE  VEHICLE_TYPE  SPEEDING_VIOLATIONS  DUIS  PAST_ACCIDENTS  \n",
       "7205         14000.0             1                    2     0               2  \n",
       "3658          9000.0             1                    2     0               1  \n",
       "6489         12000.0             1                    0     0               0  \n",
       "7695         14000.0             1                    0     0               0  \n",
       "389          12000.0             1                    0     0               0  "
      ]
     },
     "execution_count": 17,
     "metadata": {},
     "output_type": "execute_result"
    }
   ],
   "source": [
    "df_test_encoded = encoder.transform(df_test)\n",
    "print(df_test_encoded.shape)\n",
    "df_test_encoded.head()"
   ]
  },
  {
   "cell_type": "markdown",
   "id": "450050f2-bbf5-4af8-a73a-9e9e5836485a",
   "metadata": {},
   "source": [
    "## Преобразование в np.array\n",
    "\n",
    "Этап необязательный, но мне так удобнее работать."
   ]
  },
  {
   "cell_type": "code",
   "execution_count": 18,
   "id": "21f23808-0ec7-49c9-9d1a-34bdf15bce7e",
   "metadata": {},
   "outputs": [],
   "source": [
    "X_train = np.array(df_train_encoded)\n",
    "y_train = np.array(y_train_series)\n",
    "\n",
    "X_test = np.array(df_test_encoded)\n",
    "y_test = np.array(y_test_series)"
   ]
  },
  {
   "cell_type": "markdown",
   "id": "70eda5a1-5268-42db-8ab2-d5c828c5464d",
   "metadata": {},
   "source": [
    "## RandomForest Classifier\n",
    "\n",
    "В качестве алгоритма классификации я решил выбрать ансамбль RandomForest Classifier."
   ]
  },
  {
   "cell_type": "markdown",
   "id": "116f8449-b137-4061-b7e1-2c4e969457cd",
   "metadata": {},
   "source": [
    "### Подбор параметров"
   ]
  },
  {
   "cell_type": "code",
   "execution_count": 19,
   "id": "ad24e129-d690-41d4-bb55-0adfe7132a2b",
   "metadata": {},
   "outputs": [],
   "source": [
    "from sklearn.ensemble import RandomForestClassifier\n",
    "from sklearn.model_selection import GridSearchCV"
   ]
  },
  {
   "cell_type": "code",
   "execution_count": 20,
   "id": "fe090e3e-378b-42e8-ad1b-7ebbf37c9f81",
   "metadata": {},
   "outputs": [
    {
     "name": "stdout",
     "output_type": "stream",
     "text": [
      "Fitting 5 folds for each of 45 candidates, totalling 225 fits\n"
     ]
    },
    {
     "data": {
      "text/plain": [
       "GridSearchCV(cv=5, estimator=RandomForestClassifier(class_weight='balanced'),\n",
       "             n_jobs=-1,\n",
       "             param_grid=[{'max_features': ['auto', 'sqrt', 'log2'],\n",
       "                          'min_samples_leaf': [1, 3, 5, 7, 10],\n",
       "                          'n_estimators': [100, 200, 300]}],\n",
       "             scoring='f1', verbose=3)"
      ]
     },
     "execution_count": 20,
     "metadata": {},
     "output_type": "execute_result"
    }
   ],
   "source": [
    "param_grid = [{\n",
    "    'n_estimators' : [100, 200, 300],\n",
    "    'min_samples_leaf' : [1, 3, 5, 7, 10],\n",
    "    'max_features' : ['auto', 'sqrt', 'log2']\n",
    "}]\n",
    "\n",
    "model = RandomForestClassifier(class_weight='balanced')\n",
    "\n",
    "gs = GridSearchCV(model, param_grid=param_grid, cv = 5, scoring='f1', verbose=3,  n_jobs=-1)\n",
    "gs.fit(X_train, y_train)"
   ]
  },
  {
   "cell_type": "code",
   "execution_count": 21,
   "id": "a32d7c70-ebd4-4a39-82ea-a64c0aa89154",
   "metadata": {},
   "outputs": [
    {
     "data": {
      "text/plain": [
       "({'max_features': 'auto', 'min_samples_leaf': 7, 'n_estimators': 200},\n",
       " 0.7614282169869746)"
      ]
     },
     "execution_count": 21,
     "metadata": {},
     "output_type": "execute_result"
    }
   ],
   "source": [
    "gs.best_params_, gs.best_score_"
   ]
  },
  {
   "cell_type": "markdown",
   "id": "41288b42-367f-40f8-b412-bdecb749631b",
   "metadata": {},
   "source": [
    "### Тест"
   ]
  },
  {
   "cell_type": "code",
   "execution_count": 23,
   "id": "09a931dc-1110-4d62-a092-8bf016ad1196",
   "metadata": {},
   "outputs": [],
   "source": [
    "from sklearn.ensemble import RandomForestClassifier\n",
    "from sklearn.metrics import classification_report, f1_score"
   ]
  },
  {
   "cell_type": "code",
   "execution_count": 24,
   "id": "f8a3e8fd-dd5f-4bba-99f8-64e984fbc550",
   "metadata": {},
   "outputs": [
    {
     "name": "stdout",
     "output_type": "stream",
     "text": [
      "0.737527114967462\n"
     ]
    }
   ],
   "source": [
    "model = RandomForestClassifier(n_estimators=200, class_weight='balanced',\n",
    "                             max_features='auto',min_samples_leaf=7)\n",
    "\n",
    "model.fit(X_train, y_train)\n",
    "\n",
    "y_pred = model.predict(X_test)\n",
    "\n",
    "print(f1_score(y_test, y_pred))"
   ]
  },
  {
   "cell_type": "code",
   "execution_count": 25,
   "id": "f3fa4784-6505-4e1e-977d-46b1a04884dc",
   "metadata": {},
   "outputs": [
    {
     "name": "stdout",
     "output_type": "stream",
     "text": [
      "              precision    recall  f1-score   support\n",
      "\n",
      "           0       0.91      0.82      0.86      1373\n",
      "           1       0.67      0.81      0.74       627\n",
      "\n",
      "    accuracy                           0.82      2000\n",
      "   macro avg       0.79      0.82      0.80      2000\n",
      "weighted avg       0.83      0.82      0.82      2000\n",
      "\n"
     ]
    }
   ],
   "source": [
    "print(classification_report(y_test, y_pred))"
   ]
  },
  {
   "cell_type": "markdown",
   "id": "b2b2fb94-d842-4aea-9838-4b4c46e6bca2",
   "metadata": {},
   "source": [
    "Получен f1_score = 0.737527114967462. Попробуем улучшить его, поработав дополнительно с данными."
   ]
  },
  {
   "cell_type": "markdown",
   "id": "0072f71b-74d1-4e19-8a0e-63d8dd009794",
   "metadata": {},
   "source": [
    "# Работа с данными\n",
    "\n",
    "Пропуски ранее уже заполнили, попробуем поменять способ кодирования категориальных признаков на OneHot Encoding, затем отберем наиболее информативные признаки, попробуем почистить выбросы и заново потюнить алгоритм, чтобы получить лучший скор."
   ]
  },
  {
   "cell_type": "markdown",
   "id": "1c607b39-e37d-47e2-82be-78deb28070c5",
   "metadata": {},
   "source": [
    "## OneHot\n",
    "\n",
    "Используем OneHot Encoder. В библиотеке category_encoders он мне показался удобнее, чем функция pandas.get_dummies, так как данная реализация имеет такой же интерфейс, как библиотека sklearn."
   ]
  },
  {
   "cell_type": "code",
   "execution_count": 26,
   "id": "39c975bc-d7fd-45c7-8b6c-bf0e41176f99",
   "metadata": {},
   "outputs": [
    {
     "data": {
      "text/plain": [
       "['AGE',\n",
       " 'GENDER',\n",
       " 'RACE',\n",
       " 'DRIVING_EXPERIENCE',\n",
       " 'EDUCATION',\n",
       " 'INCOME',\n",
       " 'VEHICLE_YEAR',\n",
       " 'VEHICLE_TYPE']"
      ]
     },
     "execution_count": 26,
     "metadata": {},
     "output_type": "execute_result"
    }
   ],
   "source": [
    "cat_columns = list(df_train.select_dtypes('object').columns)\n",
    "cat_columns"
   ]
  },
  {
   "cell_type": "code",
   "execution_count": 27,
   "id": "1251f897-5acb-42ee-85f4-857248b1e174",
   "metadata": {},
   "outputs": [
    {
     "name": "stdout",
     "output_type": "stream",
     "text": [
      "(8000, 32)\n"
     ]
    },
    {
     "data": {
      "text/html": [
       "<div>\n",
       "<style scoped>\n",
       "    .dataframe tbody tr th:only-of-type {\n",
       "        vertical-align: middle;\n",
       "    }\n",
       "\n",
       "    .dataframe tbody tr th {\n",
       "        vertical-align: top;\n",
       "    }\n",
       "\n",
       "    .dataframe thead th {\n",
       "        text-align: right;\n",
       "    }\n",
       "</style>\n",
       "<table border=\"1\" class=\"dataframe\">\n",
       "  <thead>\n",
       "    <tr style=\"text-align: right;\">\n",
       "      <th></th>\n",
       "      <th>AGE_26-39</th>\n",
       "      <th>AGE_65+</th>\n",
       "      <th>AGE_40-64</th>\n",
       "      <th>AGE_16-25</th>\n",
       "      <th>GENDER_female</th>\n",
       "      <th>GENDER_male</th>\n",
       "      <th>RACE_minority</th>\n",
       "      <th>RACE_majority</th>\n",
       "      <th>DRIVING_EXPERIENCE_10-19y</th>\n",
       "      <th>DRIVING_EXPERIENCE_0-9y</th>\n",
       "      <th>...</th>\n",
       "      <th>VEHICLE_YEAR_before 2015</th>\n",
       "      <th>MARRIED</th>\n",
       "      <th>CHILDREN</th>\n",
       "      <th>POSTAL_CODE</th>\n",
       "      <th>ANNUAL_MILEAGE</th>\n",
       "      <th>VEHICLE_TYPE_sedan</th>\n",
       "      <th>VEHICLE_TYPE_sports car</th>\n",
       "      <th>SPEEDING_VIOLATIONS</th>\n",
       "      <th>DUIS</th>\n",
       "      <th>PAST_ACCIDENTS</th>\n",
       "    </tr>\n",
       "  </thead>\n",
       "  <tbody>\n",
       "    <tr>\n",
       "      <th>4875</th>\n",
       "      <td>1</td>\n",
       "      <td>0</td>\n",
       "      <td>0</td>\n",
       "      <td>0</td>\n",
       "      <td>1</td>\n",
       "      <td>0</td>\n",
       "      <td>1</td>\n",
       "      <td>0</td>\n",
       "      <td>1</td>\n",
       "      <td>0</td>\n",
       "      <td>...</td>\n",
       "      <td>0</td>\n",
       "      <td>0.0</td>\n",
       "      <td>0.0</td>\n",
       "      <td>10238</td>\n",
       "      <td>16000.0</td>\n",
       "      <td>1</td>\n",
       "      <td>0</td>\n",
       "      <td>0</td>\n",
       "      <td>0</td>\n",
       "      <td>0</td>\n",
       "    </tr>\n",
       "    <tr>\n",
       "      <th>2191</th>\n",
       "      <td>0</td>\n",
       "      <td>1</td>\n",
       "      <td>0</td>\n",
       "      <td>0</td>\n",
       "      <td>1</td>\n",
       "      <td>0</td>\n",
       "      <td>0</td>\n",
       "      <td>1</td>\n",
       "      <td>0</td>\n",
       "      <td>1</td>\n",
       "      <td>...</td>\n",
       "      <td>1</td>\n",
       "      <td>1.0</td>\n",
       "      <td>1.0</td>\n",
       "      <td>10238</td>\n",
       "      <td>8000.0</td>\n",
       "      <td>1</td>\n",
       "      <td>0</td>\n",
       "      <td>0</td>\n",
       "      <td>0</td>\n",
       "      <td>0</td>\n",
       "    </tr>\n",
       "    <tr>\n",
       "      <th>2271</th>\n",
       "      <td>0</td>\n",
       "      <td>0</td>\n",
       "      <td>1</td>\n",
       "      <td>0</td>\n",
       "      <td>1</td>\n",
       "      <td>0</td>\n",
       "      <td>1</td>\n",
       "      <td>0</td>\n",
       "      <td>1</td>\n",
       "      <td>0</td>\n",
       "      <td>...</td>\n",
       "      <td>0</td>\n",
       "      <td>0.0</td>\n",
       "      <td>1.0</td>\n",
       "      <td>10238</td>\n",
       "      <td>12000.0</td>\n",
       "      <td>1</td>\n",
       "      <td>0</td>\n",
       "      <td>0</td>\n",
       "      <td>0</td>\n",
       "      <td>0</td>\n",
       "    </tr>\n",
       "    <tr>\n",
       "      <th>7184</th>\n",
       "      <td>1</td>\n",
       "      <td>0</td>\n",
       "      <td>0</td>\n",
       "      <td>0</td>\n",
       "      <td>1</td>\n",
       "      <td>0</td>\n",
       "      <td>0</td>\n",
       "      <td>1</td>\n",
       "      <td>1</td>\n",
       "      <td>0</td>\n",
       "      <td>...</td>\n",
       "      <td>1</td>\n",
       "      <td>0.0</td>\n",
       "      <td>1.0</td>\n",
       "      <td>10238</td>\n",
       "      <td>15000.0</td>\n",
       "      <td>1</td>\n",
       "      <td>0</td>\n",
       "      <td>0</td>\n",
       "      <td>0</td>\n",
       "      <td>1</td>\n",
       "    </tr>\n",
       "    <tr>\n",
       "      <th>3910</th>\n",
       "      <td>0</td>\n",
       "      <td>0</td>\n",
       "      <td>1</td>\n",
       "      <td>0</td>\n",
       "      <td>1</td>\n",
       "      <td>0</td>\n",
       "      <td>0</td>\n",
       "      <td>1</td>\n",
       "      <td>0</td>\n",
       "      <td>0</td>\n",
       "      <td>...</td>\n",
       "      <td>1</td>\n",
       "      <td>1.0</td>\n",
       "      <td>1.0</td>\n",
       "      <td>32765</td>\n",
       "      <td>6000.0</td>\n",
       "      <td>1</td>\n",
       "      <td>0</td>\n",
       "      <td>3</td>\n",
       "      <td>2</td>\n",
       "      <td>1</td>\n",
       "    </tr>\n",
       "  </tbody>\n",
       "</table>\n",
       "<p>5 rows × 32 columns</p>\n",
       "</div>"
      ],
      "text/plain": [
       "      AGE_26-39  AGE_65+  AGE_40-64  AGE_16-25  GENDER_female  GENDER_male  \\\n",
       "4875          1        0          0          0              1            0   \n",
       "2191          0        1          0          0              1            0   \n",
       "2271          0        0          1          0              1            0   \n",
       "7184          1        0          0          0              1            0   \n",
       "3910          0        0          1          0              1            0   \n",
       "\n",
       "      RACE_minority  RACE_majority  DRIVING_EXPERIENCE_10-19y  \\\n",
       "4875              1              0                          1   \n",
       "2191              0              1                          0   \n",
       "2271              1              0                          1   \n",
       "7184              0              1                          1   \n",
       "3910              0              1                          0   \n",
       "\n",
       "      DRIVING_EXPERIENCE_0-9y  ...  VEHICLE_YEAR_before 2015  MARRIED  \\\n",
       "4875                        0  ...                         0      0.0   \n",
       "2191                        1  ...                         1      1.0   \n",
       "2271                        0  ...                         0      0.0   \n",
       "7184                        0  ...                         1      0.0   \n",
       "3910                        0  ...                         1      1.0   \n",
       "\n",
       "      CHILDREN  POSTAL_CODE  ANNUAL_MILEAGE  VEHICLE_TYPE_sedan  \\\n",
       "4875       0.0        10238         16000.0                   1   \n",
       "2191       1.0        10238          8000.0                   1   \n",
       "2271       1.0        10238         12000.0                   1   \n",
       "7184       1.0        10238         15000.0                   1   \n",
       "3910       1.0        32765          6000.0                   1   \n",
       "\n",
       "      VEHICLE_TYPE_sports car  SPEEDING_VIOLATIONS  DUIS  PAST_ACCIDENTS  \n",
       "4875                        0                    0     0               0  \n",
       "2191                        0                    0     0               0  \n",
       "2271                        0                    0     0               0  \n",
       "7184                        0                    0     0               1  \n",
       "3910                        0                    3     2               1  \n",
       "\n",
       "[5 rows x 32 columns]"
      ]
     },
     "execution_count": 27,
     "metadata": {},
     "output_type": "execute_result"
    }
   ],
   "source": [
    "from category_encoders.one_hot import OneHotEncoder\n",
    "\n",
    "encoder = OneHotEncoder(cols = cat_columns, use_cat_names=True)\n",
    "df_train_encoded = encoder.fit_transform(df_train)\n",
    "print(df_train_encoded.shape)\n",
    "df_train_encoded.head()"
   ]
  },
  {
   "cell_type": "markdown",
   "id": "d11b854e-e9ab-45c3-ac4e-8fb12013d31f",
   "metadata": {},
   "source": [
    "Повторяем действия для тестовой выборки с обученным Encoder"
   ]
  },
  {
   "cell_type": "code",
   "execution_count": 28,
   "id": "0699a935-d3fa-4e08-af99-6c47a5b7ac5a",
   "metadata": {},
   "outputs": [
    {
     "name": "stdout",
     "output_type": "stream",
     "text": [
      "(2000, 32)\n"
     ]
    },
    {
     "data": {
      "text/html": [
       "<div>\n",
       "<style scoped>\n",
       "    .dataframe tbody tr th:only-of-type {\n",
       "        vertical-align: middle;\n",
       "    }\n",
       "\n",
       "    .dataframe tbody tr th {\n",
       "        vertical-align: top;\n",
       "    }\n",
       "\n",
       "    .dataframe thead th {\n",
       "        text-align: right;\n",
       "    }\n",
       "</style>\n",
       "<table border=\"1\" class=\"dataframe\">\n",
       "  <thead>\n",
       "    <tr style=\"text-align: right;\">\n",
       "      <th></th>\n",
       "      <th>AGE_26-39</th>\n",
       "      <th>AGE_65+</th>\n",
       "      <th>AGE_40-64</th>\n",
       "      <th>AGE_16-25</th>\n",
       "      <th>GENDER_female</th>\n",
       "      <th>GENDER_male</th>\n",
       "      <th>RACE_minority</th>\n",
       "      <th>RACE_majority</th>\n",
       "      <th>DRIVING_EXPERIENCE_10-19y</th>\n",
       "      <th>DRIVING_EXPERIENCE_0-9y</th>\n",
       "      <th>...</th>\n",
       "      <th>VEHICLE_YEAR_before 2015</th>\n",
       "      <th>MARRIED</th>\n",
       "      <th>CHILDREN</th>\n",
       "      <th>POSTAL_CODE</th>\n",
       "      <th>ANNUAL_MILEAGE</th>\n",
       "      <th>VEHICLE_TYPE_sedan</th>\n",
       "      <th>VEHICLE_TYPE_sports car</th>\n",
       "      <th>SPEEDING_VIOLATIONS</th>\n",
       "      <th>DUIS</th>\n",
       "      <th>PAST_ACCIDENTS</th>\n",
       "    </tr>\n",
       "  </thead>\n",
       "  <tbody>\n",
       "    <tr>\n",
       "      <th>7205</th>\n",
       "      <td>1</td>\n",
       "      <td>0</td>\n",
       "      <td>0</td>\n",
       "      <td>0</td>\n",
       "      <td>0</td>\n",
       "      <td>1</td>\n",
       "      <td>0</td>\n",
       "      <td>1</td>\n",
       "      <td>1</td>\n",
       "      <td>0</td>\n",
       "      <td>...</td>\n",
       "      <td>0</td>\n",
       "      <td>1.0</td>\n",
       "      <td>0.0</td>\n",
       "      <td>10238</td>\n",
       "      <td>14000.0</td>\n",
       "      <td>1</td>\n",
       "      <td>0</td>\n",
       "      <td>2</td>\n",
       "      <td>0</td>\n",
       "      <td>2</td>\n",
       "    </tr>\n",
       "    <tr>\n",
       "      <th>3658</th>\n",
       "      <td>0</td>\n",
       "      <td>1</td>\n",
       "      <td>0</td>\n",
       "      <td>0</td>\n",
       "      <td>1</td>\n",
       "      <td>0</td>\n",
       "      <td>0</td>\n",
       "      <td>1</td>\n",
       "      <td>0</td>\n",
       "      <td>0</td>\n",
       "      <td>...</td>\n",
       "      <td>0</td>\n",
       "      <td>1.0</td>\n",
       "      <td>1.0</td>\n",
       "      <td>10238</td>\n",
       "      <td>9000.0</td>\n",
       "      <td>1</td>\n",
       "      <td>0</td>\n",
       "      <td>2</td>\n",
       "      <td>0</td>\n",
       "      <td>1</td>\n",
       "    </tr>\n",
       "    <tr>\n",
       "      <th>6489</th>\n",
       "      <td>1</td>\n",
       "      <td>0</td>\n",
       "      <td>0</td>\n",
       "      <td>0</td>\n",
       "      <td>1</td>\n",
       "      <td>0</td>\n",
       "      <td>0</td>\n",
       "      <td>1</td>\n",
       "      <td>0</td>\n",
       "      <td>1</td>\n",
       "      <td>...</td>\n",
       "      <td>1</td>\n",
       "      <td>0.0</td>\n",
       "      <td>0.0</td>\n",
       "      <td>32765</td>\n",
       "      <td>12000.0</td>\n",
       "      <td>1</td>\n",
       "      <td>0</td>\n",
       "      <td>0</td>\n",
       "      <td>0</td>\n",
       "      <td>0</td>\n",
       "    </tr>\n",
       "    <tr>\n",
       "      <th>7695</th>\n",
       "      <td>0</td>\n",
       "      <td>0</td>\n",
       "      <td>0</td>\n",
       "      <td>1</td>\n",
       "      <td>0</td>\n",
       "      <td>1</td>\n",
       "      <td>0</td>\n",
       "      <td>1</td>\n",
       "      <td>0</td>\n",
       "      <td>1</td>\n",
       "      <td>...</td>\n",
       "      <td>1</td>\n",
       "      <td>0.0</td>\n",
       "      <td>0.0</td>\n",
       "      <td>10238</td>\n",
       "      <td>14000.0</td>\n",
       "      <td>1</td>\n",
       "      <td>0</td>\n",
       "      <td>0</td>\n",
       "      <td>0</td>\n",
       "      <td>0</td>\n",
       "    </tr>\n",
       "    <tr>\n",
       "      <th>389</th>\n",
       "      <td>1</td>\n",
       "      <td>0</td>\n",
       "      <td>0</td>\n",
       "      <td>0</td>\n",
       "      <td>0</td>\n",
       "      <td>1</td>\n",
       "      <td>0</td>\n",
       "      <td>1</td>\n",
       "      <td>0</td>\n",
       "      <td>1</td>\n",
       "      <td>...</td>\n",
       "      <td>0</td>\n",
       "      <td>0.0</td>\n",
       "      <td>1.0</td>\n",
       "      <td>10238</td>\n",
       "      <td>12000.0</td>\n",
       "      <td>1</td>\n",
       "      <td>0</td>\n",
       "      <td>0</td>\n",
       "      <td>0</td>\n",
       "      <td>0</td>\n",
       "    </tr>\n",
       "  </tbody>\n",
       "</table>\n",
       "<p>5 rows × 32 columns</p>\n",
       "</div>"
      ],
      "text/plain": [
       "      AGE_26-39  AGE_65+  AGE_40-64  AGE_16-25  GENDER_female  GENDER_male  \\\n",
       "7205          1        0          0          0              0            1   \n",
       "3658          0        1          0          0              1            0   \n",
       "6489          1        0          0          0              1            0   \n",
       "7695          0        0          0          1              0            1   \n",
       "389           1        0          0          0              0            1   \n",
       "\n",
       "      RACE_minority  RACE_majority  DRIVING_EXPERIENCE_10-19y  \\\n",
       "7205              0              1                          1   \n",
       "3658              0              1                          0   \n",
       "6489              0              1                          0   \n",
       "7695              0              1                          0   \n",
       "389               0              1                          0   \n",
       "\n",
       "      DRIVING_EXPERIENCE_0-9y  ...  VEHICLE_YEAR_before 2015  MARRIED  \\\n",
       "7205                        0  ...                         0      1.0   \n",
       "3658                        0  ...                         0      1.0   \n",
       "6489                        1  ...                         1      0.0   \n",
       "7695                        1  ...                         1      0.0   \n",
       "389                         1  ...                         0      0.0   \n",
       "\n",
       "      CHILDREN  POSTAL_CODE  ANNUAL_MILEAGE  VEHICLE_TYPE_sedan  \\\n",
       "7205       0.0        10238         14000.0                   1   \n",
       "3658       1.0        10238          9000.0                   1   \n",
       "6489       0.0        32765         12000.0                   1   \n",
       "7695       0.0        10238         14000.0                   1   \n",
       "389        1.0        10238         12000.0                   1   \n",
       "\n",
       "      VEHICLE_TYPE_sports car  SPEEDING_VIOLATIONS  DUIS  PAST_ACCIDENTS  \n",
       "7205                        0                    2     0               2  \n",
       "3658                        0                    2     0               1  \n",
       "6489                        0                    0     0               0  \n",
       "7695                        0                    0     0               0  \n",
       "389                         0                    0     0               0  \n",
       "\n",
       "[5 rows x 32 columns]"
      ]
     },
     "execution_count": 28,
     "metadata": {},
     "output_type": "execute_result"
    }
   ],
   "source": [
    "df_test_encoded = encoder.transform(df_test)\n",
    "print(df_test_encoded.shape)\n",
    "df_test_encoded.head()"
   ]
  },
  {
   "cell_type": "markdown",
   "id": "a08541dc-8f26-493c-8c1b-9bea7ea85834",
   "metadata": {},
   "source": [
    "## Отбор важных признаков\n",
    "\n",
    "Для отбора признаков можно использовать всё тот же случайный лес, а точнее его атрибут feature_importances_. Обучим алгоритм и визуализируем полученные результаты."
   ]
  },
  {
   "cell_type": "code",
   "execution_count": 29,
   "id": "55cf6077-9a60-494a-860e-64b878104ff0",
   "metadata": {},
   "outputs": [],
   "source": [
    "X_train = np.array(df_train_encoded)\n",
    "y_train = np.array(y_train_series)\n",
    "\n",
    "X_test = np.array(df_test_encoded)\n",
    "y_test = np.array(y_test_series)"
   ]
  },
  {
   "cell_type": "code",
   "execution_count": 30,
   "id": "e6553060-c820-4ee1-921c-8c6193b8162e",
   "metadata": {},
   "outputs": [
    {
     "name": "stdout",
     "output_type": "stream",
     "text": [
      "[0.01566667 0.00744134 0.01072899 0.04639729 0.01638222 0.01684082\n",
      " 0.00721368 0.00791652 0.02049281 0.10186639 0.02043366 0.00665348\n",
      " 0.01276027 0.01481251 0.01126535 0.02086495 0.0114644  0.01135776\n",
      " 0.0220411  0.15438599 0.07701941 0.03471539 0.03027616 0.02314237\n",
      " 0.02284124 0.04995492 0.09412435 0.00593317 0.00572106 0.05920479\n",
      " 0.0140022  0.04607875]\n"
     ]
    },
    {
     "data": {
      "image/png": "[encoded data removed]",
      "text/plain": [
       "<Figure size 864x432 with 1 Axes>"
      ]
     },
     "metadata": {
      "needs_background": "light"
     },
     "output_type": "display_data"
    }
   ],
   "source": [
    "from sklearn.ensemble import RandomForestClassifier\n",
    "\n",
    "model = RandomForestClassifier()\n",
    "model.fit(X_train, y_train)\n",
    "print(model.feature_importances_)\n",
    "feat_importances = pd.Series(model.feature_importances_, index=df_train_encoded.columns).sort_values()\n",
    "plt.figure(figsize=(12,6))\n",
    "feat_importances.plot(kind='barh')\n",
    "plt.show()"
   ]
  },
  {
   "cell_type": "markdown",
   "id": "33c9b20e-2ef2-4acb-b766-33f92d7ee235",
   "metadata": {},
   "source": [
    "За счет кодирования OneHot, пространство признаков выросло до 32. Предлагаю оставить топ 17 лучших, так как не хочется терять слишком много информации. Такое значение кажется оптимальным, чтобы снизить размерность и убрать лишние сплиты у случайного леса."
   ]
  },
  {
   "cell_type": "code",
   "execution_count": 31,
   "id": "d22ee435-e1f7-4915-8e71-a9543001247c",
   "metadata": {},
   "outputs": [
    {
     "data": {
      "text/plain": [
       "CREDIT_SCORE                 0.154386\n",
       "DRIVING_EXPERIENCE_0-9y      0.101866\n",
       "ANNUAL_MILEAGE               0.094124\n",
       "VEHICLE_OWNERSHIP            0.077019\n",
       "SPEEDING_VIOLATIONS          0.059205\n",
       "POSTAL_CODE                  0.049955\n",
       "AGE_16-25                    0.046397\n",
       "PAST_ACCIDENTS               0.046079\n",
       "VEHICLE_YEAR_after 2015      0.034715\n",
       "VEHICLE_YEAR_before 2015     0.030276\n",
       "MARRIED                      0.023142\n",
       "CHILDREN                     0.022841\n",
       "INCOME_poverty               0.022041\n",
       "INCOME_upper class           0.020865\n",
       "DRIVING_EXPERIENCE_10-19y    0.020493\n",
       "DRIVING_EXPERIENCE_20-29y    0.020434\n",
       "GENDER_male                  0.016841\n",
       "dtype: float64"
      ]
     },
     "execution_count": 31,
     "metadata": {},
     "output_type": "execute_result"
    }
   ],
   "source": [
    "feat_importances[::-1][:17]"
   ]
  },
  {
   "cell_type": "code",
   "execution_count": 32,
   "id": "5a8b8a14-79c1-4f0a-8872-cd472ed114ce",
   "metadata": {},
   "outputs": [
    {
     "data": {
      "text/plain": [
       "['CREDIT_SCORE',\n",
       " 'DRIVING_EXPERIENCE_0-9y',\n",
       " 'ANNUAL_MILEAGE',\n",
       " 'VEHICLE_OWNERSHIP',\n",
       " 'SPEEDING_VIOLATIONS',\n",
       " 'POSTAL_CODE',\n",
       " 'AGE_16-25',\n",
       " 'PAST_ACCIDENTS',\n",
       " 'VEHICLE_YEAR_after 2015',\n",
       " 'VEHICLE_YEAR_before 2015',\n",
       " 'MARRIED',\n",
       " 'CHILDREN',\n",
       " 'INCOME_poverty',\n",
       " 'INCOME_upper class',\n",
       " 'DRIVING_EXPERIENCE_10-19y',\n",
       " 'DRIVING_EXPERIENCE_20-29y',\n",
       " 'GENDER_male']"
      ]
     },
     "execution_count": 32,
     "metadata": {},
     "output_type": "execute_result"
    }
   ],
   "source": [
    "best_features = feat_importances[::-1][:17].index.to_list()\n",
    "best_features"
   ]
  },
  {
   "cell_type": "code",
   "execution_count": 33,
   "id": "9329efa1-0e63-4aac-9eff-6e9887944b41",
   "metadata": {},
   "outputs": [
    {
     "data": {
      "text/html": [
       "<div>\n",
       "<style scoped>\n",
       "    .dataframe tbody tr th:only-of-type {\n",
       "        vertical-align: middle;\n",
       "    }\n",
       "\n",
       "    .dataframe tbody tr th {\n",
       "        vertical-align: top;\n",
       "    }\n",
       "\n",
       "    .dataframe thead th {\n",
       "        text-align: right;\n",
       "    }\n",
       "</style>\n",
       "<table border=\"1\" class=\"dataframe\">\n",
       "  <thead>\n",
       "    <tr style=\"text-align: right;\">\n",
       "      <th></th>\n",
       "      <th>CREDIT_SCORE</th>\n",
       "      <th>DRIVING_EXPERIENCE_0-9y</th>\n",
       "      <th>ANNUAL_MILEAGE</th>\n",
       "      <th>VEHICLE_OWNERSHIP</th>\n",
       "      <th>SPEEDING_VIOLATIONS</th>\n",
       "      <th>POSTAL_CODE</th>\n",
       "      <th>AGE_16-25</th>\n",
       "      <th>PAST_ACCIDENTS</th>\n",
       "      <th>VEHICLE_YEAR_after 2015</th>\n",
       "      <th>VEHICLE_YEAR_before 2015</th>\n",
       "      <th>MARRIED</th>\n",
       "      <th>CHILDREN</th>\n",
       "      <th>INCOME_poverty</th>\n",
       "      <th>INCOME_upper class</th>\n",
       "      <th>DRIVING_EXPERIENCE_10-19y</th>\n",
       "      <th>DRIVING_EXPERIENCE_20-29y</th>\n",
       "      <th>GENDER_male</th>\n",
       "    </tr>\n",
       "  </thead>\n",
       "  <tbody>\n",
       "    <tr>\n",
       "      <th>4875</th>\n",
       "      <td>0.712351</td>\n",
       "      <td>0</td>\n",
       "      <td>16000.0</td>\n",
       "      <td>0.0</td>\n",
       "      <td>0</td>\n",
       "      <td>10238</td>\n",
       "      <td>0</td>\n",
       "      <td>0</td>\n",
       "      <td>1</td>\n",
       "      <td>0</td>\n",
       "      <td>0.0</td>\n",
       "      <td>0.0</td>\n",
       "      <td>0</td>\n",
       "      <td>1</td>\n",
       "      <td>1</td>\n",
       "      <td>0</td>\n",
       "      <td>0</td>\n",
       "    </tr>\n",
       "    <tr>\n",
       "      <th>2191</th>\n",
       "      <td>0.533479</td>\n",
       "      <td>1</td>\n",
       "      <td>8000.0</td>\n",
       "      <td>1.0</td>\n",
       "      <td>0</td>\n",
       "      <td>10238</td>\n",
       "      <td>0</td>\n",
       "      <td>0</td>\n",
       "      <td>0</td>\n",
       "      <td>1</td>\n",
       "      <td>1.0</td>\n",
       "      <td>1.0</td>\n",
       "      <td>0</td>\n",
       "      <td>1</td>\n",
       "      <td>0</td>\n",
       "      <td>0</td>\n",
       "      <td>0</td>\n",
       "    </tr>\n",
       "    <tr>\n",
       "      <th>2271</th>\n",
       "      <td>0.694596</td>\n",
       "      <td>0</td>\n",
       "      <td>12000.0</td>\n",
       "      <td>1.0</td>\n",
       "      <td>0</td>\n",
       "      <td>10238</td>\n",
       "      <td>0</td>\n",
       "      <td>0</td>\n",
       "      <td>1</td>\n",
       "      <td>0</td>\n",
       "      <td>0.0</td>\n",
       "      <td>1.0</td>\n",
       "      <td>0</td>\n",
       "      <td>1</td>\n",
       "      <td>1</td>\n",
       "      <td>0</td>\n",
       "      <td>0</td>\n",
       "    </tr>\n",
       "    <tr>\n",
       "      <th>7184</th>\n",
       "      <td>0.515658</td>\n",
       "      <td>0</td>\n",
       "      <td>15000.0</td>\n",
       "      <td>0.0</td>\n",
       "      <td>0</td>\n",
       "      <td>10238</td>\n",
       "      <td>0</td>\n",
       "      <td>1</td>\n",
       "      <td>0</td>\n",
       "      <td>1</td>\n",
       "      <td>0.0</td>\n",
       "      <td>1.0</td>\n",
       "      <td>0</td>\n",
       "      <td>1</td>\n",
       "      <td>1</td>\n",
       "      <td>0</td>\n",
       "      <td>0</td>\n",
       "    </tr>\n",
       "    <tr>\n",
       "      <th>3910</th>\n",
       "      <td>0.537726</td>\n",
       "      <td>0</td>\n",
       "      <td>6000.0</td>\n",
       "      <td>0.0</td>\n",
       "      <td>3</td>\n",
       "      <td>32765</td>\n",
       "      <td>0</td>\n",
       "      <td>1</td>\n",
       "      <td>0</td>\n",
       "      <td>1</td>\n",
       "      <td>1.0</td>\n",
       "      <td>1.0</td>\n",
       "      <td>0</td>\n",
       "      <td>1</td>\n",
       "      <td>0</td>\n",
       "      <td>1</td>\n",
       "      <td>0</td>\n",
       "    </tr>\n",
       "  </tbody>\n",
       "</table>\n",
       "</div>"
      ],
      "text/plain": [
       "      CREDIT_SCORE  DRIVING_EXPERIENCE_0-9y  ANNUAL_MILEAGE  \\\n",
       "4875      0.712351                        0         16000.0   \n",
       "2191      0.533479                        1          8000.0   \n",
       "2271      0.694596                        0         12000.0   \n",
       "7184      0.515658                        0         15000.0   \n",
       "3910      0.537726                        0          6000.0   \n",
       "\n",
       "      VEHICLE_OWNERSHIP  SPEEDING_VIOLATIONS  POSTAL_CODE  AGE_16-25  \\\n",
       "4875                0.0                    0        10238          0   \n",
       "2191                1.0                    0        10238          0   \n",
       "2271                1.0                    0        10238          0   \n",
       "7184                0.0                    0        10238          0   \n",
       "3910                0.0                    3        32765          0   \n",
       "\n",
       "      PAST_ACCIDENTS  VEHICLE_YEAR_after 2015  VEHICLE_YEAR_before 2015  \\\n",
       "4875               0                        1                         0   \n",
       "2191               0                        0                         1   \n",
       "2271               0                        1                         0   \n",
       "7184               1                        0                         1   \n",
       "3910               1                        0                         1   \n",
       "\n",
       "      MARRIED  CHILDREN  INCOME_poverty  INCOME_upper class  \\\n",
       "4875      0.0       0.0               0                   1   \n",
       "2191      1.0       1.0               0                   1   \n",
       "2271      0.0       1.0               0                   1   \n",
       "7184      0.0       1.0               0                   1   \n",
       "3910      1.0       1.0               0                   1   \n",
       "\n",
       "      DRIVING_EXPERIENCE_10-19y  DRIVING_EXPERIENCE_20-29y  GENDER_male  \n",
       "4875                          1                          0            0  \n",
       "2191                          0                          0            0  \n",
       "2271                          1                          0            0  \n",
       "7184                          1                          0            0  \n",
       "3910                          0                          1            0  "
      ]
     },
     "execution_count": 33,
     "metadata": {},
     "output_type": "execute_result"
    }
   ],
   "source": [
    "df_train_encoded = df_train_encoded[best_features]\n",
    "df_train_encoded.head()"
   ]
  },
  {
   "cell_type": "code",
   "execution_count": 34,
   "id": "4aab3e5c-eb3d-4f77-b5f0-0ae1efb5c648",
   "metadata": {},
   "outputs": [
    {
     "data": {
      "text/html": [
       "<div>\n",
       "<style scoped>\n",
       "    .dataframe tbody tr th:only-of-type {\n",
       "        vertical-align: middle;\n",
       "    }\n",
       "\n",
       "    .dataframe tbody tr th {\n",
       "        vertical-align: top;\n",
       "    }\n",
       "\n",
       "    .dataframe thead th {\n",
       "        text-align: right;\n",
       "    }\n",
       "</style>\n",
       "<table border=\"1\" class=\"dataframe\">\n",
       "  <thead>\n",
       "    <tr style=\"text-align: right;\">\n",
       "      <th></th>\n",
       "      <th>CREDIT_SCORE</th>\n",
       "      <th>DRIVING_EXPERIENCE_0-9y</th>\n",
       "      <th>ANNUAL_MILEAGE</th>\n",
       "      <th>VEHICLE_OWNERSHIP</th>\n",
       "      <th>SPEEDING_VIOLATIONS</th>\n",
       "      <th>POSTAL_CODE</th>\n",
       "      <th>AGE_16-25</th>\n",
       "      <th>PAST_ACCIDENTS</th>\n",
       "      <th>VEHICLE_YEAR_after 2015</th>\n",
       "      <th>VEHICLE_YEAR_before 2015</th>\n",
       "      <th>MARRIED</th>\n",
       "      <th>CHILDREN</th>\n",
       "      <th>INCOME_poverty</th>\n",
       "      <th>INCOME_upper class</th>\n",
       "      <th>DRIVING_EXPERIENCE_10-19y</th>\n",
       "      <th>DRIVING_EXPERIENCE_20-29y</th>\n",
       "      <th>GENDER_male</th>\n",
       "    </tr>\n",
       "  </thead>\n",
       "  <tbody>\n",
       "    <tr>\n",
       "      <th>7205</th>\n",
       "      <td>0.437373</td>\n",
       "      <td>0</td>\n",
       "      <td>14000.0</td>\n",
       "      <td>0.0</td>\n",
       "      <td>2</td>\n",
       "      <td>10238</td>\n",
       "      <td>0</td>\n",
       "      <td>2</td>\n",
       "      <td>1</td>\n",
       "      <td>0</td>\n",
       "      <td>1.0</td>\n",
       "      <td>0.0</td>\n",
       "      <td>0</td>\n",
       "      <td>0</td>\n",
       "      <td>1</td>\n",
       "      <td>0</td>\n",
       "      <td>1</td>\n",
       "    </tr>\n",
       "    <tr>\n",
       "      <th>3658</th>\n",
       "      <td>0.708114</td>\n",
       "      <td>0</td>\n",
       "      <td>9000.0</td>\n",
       "      <td>1.0</td>\n",
       "      <td>2</td>\n",
       "      <td>10238</td>\n",
       "      <td>0</td>\n",
       "      <td>1</td>\n",
       "      <td>1</td>\n",
       "      <td>0</td>\n",
       "      <td>1.0</td>\n",
       "      <td>1.0</td>\n",
       "      <td>0</td>\n",
       "      <td>1</td>\n",
       "      <td>0</td>\n",
       "      <td>0</td>\n",
       "      <td>0</td>\n",
       "    </tr>\n",
       "    <tr>\n",
       "      <th>6489</th>\n",
       "      <td>0.205296</td>\n",
       "      <td>1</td>\n",
       "      <td>12000.0</td>\n",
       "      <td>1.0</td>\n",
       "      <td>0</td>\n",
       "      <td>32765</td>\n",
       "      <td>0</td>\n",
       "      <td>0</td>\n",
       "      <td>0</td>\n",
       "      <td>1</td>\n",
       "      <td>0.0</td>\n",
       "      <td>0.0</td>\n",
       "      <td>1</td>\n",
       "      <td>0</td>\n",
       "      <td>0</td>\n",
       "      <td>0</td>\n",
       "      <td>0</td>\n",
       "    </tr>\n",
       "    <tr>\n",
       "      <th>7695</th>\n",
       "      <td>0.370227</td>\n",
       "      <td>1</td>\n",
       "      <td>14000.0</td>\n",
       "      <td>1.0</td>\n",
       "      <td>0</td>\n",
       "      <td>10238</td>\n",
       "      <td>1</td>\n",
       "      <td>0</td>\n",
       "      <td>0</td>\n",
       "      <td>1</td>\n",
       "      <td>0.0</td>\n",
       "      <td>0.0</td>\n",
       "      <td>0</td>\n",
       "      <td>0</td>\n",
       "      <td>0</td>\n",
       "      <td>0</td>\n",
       "      <td>1</td>\n",
       "    </tr>\n",
       "    <tr>\n",
       "      <th>389</th>\n",
       "      <td>0.461156</td>\n",
       "      <td>1</td>\n",
       "      <td>12000.0</td>\n",
       "      <td>1.0</td>\n",
       "      <td>0</td>\n",
       "      <td>10238</td>\n",
       "      <td>0</td>\n",
       "      <td>0</td>\n",
       "      <td>1</td>\n",
       "      <td>0</td>\n",
       "      <td>0.0</td>\n",
       "      <td>1.0</td>\n",
       "      <td>0</td>\n",
       "      <td>0</td>\n",
       "      <td>0</td>\n",
       "      <td>0</td>\n",
       "      <td>1</td>\n",
       "    </tr>\n",
       "  </tbody>\n",
       "</table>\n",
       "</div>"
      ],
      "text/plain": [
       "      CREDIT_SCORE  DRIVING_EXPERIENCE_0-9y  ANNUAL_MILEAGE  \\\n",
       "7205      0.437373                        0         14000.0   \n",
       "3658      0.708114                        0          9000.0   \n",
       "6489      0.205296                        1         12000.0   \n",
       "7695      0.370227                        1         14000.0   \n",
       "389       0.461156                        1         12000.0   \n",
       "\n",
       "      VEHICLE_OWNERSHIP  SPEEDING_VIOLATIONS  POSTAL_CODE  AGE_16-25  \\\n",
       "7205                0.0                    2        10238          0   \n",
       "3658                1.0                    2        10238          0   \n",
       "6489                1.0                    0        32765          0   \n",
       "7695                1.0                    0        10238          1   \n",
       "389                 1.0                    0        10238          0   \n",
       "\n",
       "      PAST_ACCIDENTS  VEHICLE_YEAR_after 2015  VEHICLE_YEAR_before 2015  \\\n",
       "7205               2                        1                         0   \n",
       "3658               1                        1                         0   \n",
       "6489               0                        0                         1   \n",
       "7695               0                        0                         1   \n",
       "389                0                        1                         0   \n",
       "\n",
       "      MARRIED  CHILDREN  INCOME_poverty  INCOME_upper class  \\\n",
       "7205      1.0       0.0               0                   0   \n",
       "3658      1.0       1.0               0                   1   \n",
       "6489      0.0       0.0               1                   0   \n",
       "7695      0.0       0.0               0                   0   \n",
       "389       0.0       1.0               0                   0   \n",
       "\n",
       "      DRIVING_EXPERIENCE_10-19y  DRIVING_EXPERIENCE_20-29y  GENDER_male  \n",
       "7205                          1                          0            1  \n",
       "3658                          0                          0            0  \n",
       "6489                          0                          0            0  \n",
       "7695                          0                          0            1  \n",
       "389                           0                          0            1  "
      ]
     },
     "execution_count": 34,
     "metadata": {},
     "output_type": "execute_result"
    }
   ],
   "source": [
    "df_test_encoded = df_test_encoded[best_features]\n",
    "df_test_encoded.head()"
   ]
  },
  {
   "cell_type": "markdown",
   "id": "6e276055-c68a-45ed-b5c4-a881de4188ba",
   "metadata": {},
   "source": [
    "## Очитска от выбросов\n",
    "\n",
    "Проверим наличие выбросов в датасете по чиловым признакам"
   ]
  },
  {
   "cell_type": "code",
   "execution_count": 35,
   "id": "5761d9a8-0b74-45fd-a3c3-86fd5f66c10e",
   "metadata": {},
   "outputs": [
    {
     "data": {
      "text/html": [
       "<div>\n",
       "<style scoped>\n",
       "    .dataframe tbody tr th:only-of-type {\n",
       "        vertical-align: middle;\n",
       "    }\n",
       "\n",
       "    .dataframe tbody tr th {\n",
       "        vertical-align: top;\n",
       "    }\n",
       "\n",
       "    .dataframe thead th {\n",
       "        text-align: right;\n",
       "    }\n",
       "</style>\n",
       "<table border=\"1\" class=\"dataframe\">\n",
       "  <thead>\n",
       "    <tr style=\"text-align: right;\">\n",
       "      <th></th>\n",
       "      <th>CREDIT_SCORE</th>\n",
       "      <th>ANNUAL_MILEAGE</th>\n",
       "    </tr>\n",
       "  </thead>\n",
       "  <tbody>\n",
       "    <tr>\n",
       "      <th>count</th>\n",
       "      <td>8000.000000</td>\n",
       "      <td>8000.00000</td>\n",
       "    </tr>\n",
       "    <tr>\n",
       "      <th>mean</th>\n",
       "      <td>0.515878</td>\n",
       "      <td>11742.87500</td>\n",
       "    </tr>\n",
       "    <tr>\n",
       "      <th>std</th>\n",
       "      <td>0.130073</td>\n",
       "      <td>2692.14927</td>\n",
       "    </tr>\n",
       "    <tr>\n",
       "      <th>min</th>\n",
       "      <td>0.053358</td>\n",
       "      <td>2000.00000</td>\n",
       "    </tr>\n",
       "    <tr>\n",
       "      <th>25%</th>\n",
       "      <td>0.430899</td>\n",
       "      <td>10000.00000</td>\n",
       "    </tr>\n",
       "    <tr>\n",
       "      <th>50%</th>\n",
       "      <td>0.524191</td>\n",
       "      <td>12000.00000</td>\n",
       "    </tr>\n",
       "    <tr>\n",
       "      <th>75%</th>\n",
       "      <td>0.606143</td>\n",
       "      <td>13000.00000</td>\n",
       "    </tr>\n",
       "    <tr>\n",
       "      <th>max</th>\n",
       "      <td>0.915883</td>\n",
       "      <td>22000.00000</td>\n",
       "    </tr>\n",
       "  </tbody>\n",
       "</table>\n",
       "</div>"
      ],
      "text/plain": [
       "       CREDIT_SCORE  ANNUAL_MILEAGE\n",
       "count   8000.000000      8000.00000\n",
       "mean       0.515878     11742.87500\n",
       "std        0.130073      2692.14927\n",
       "min        0.053358      2000.00000\n",
       "25%        0.430899     10000.00000\n",
       "50%        0.524191     12000.00000\n",
       "75%        0.606143     13000.00000\n",
       "max        0.915883     22000.00000"
      ]
     },
     "execution_count": 35,
     "metadata": {},
     "output_type": "execute_result"
    }
   ],
   "source": [
    "df_train_encoded[['CREDIT_SCORE', 'ANNUAL_MILEAGE']].describe()"
   ]
  },
  {
   "cell_type": "markdown",
   "id": "8598cfd4-a1e2-49b4-aad3-efe61068fe6a",
   "metadata": {},
   "source": [
    "По описательным статистикам видно большое различие между минимальным и максимальным значениями в обоих признаках. Подозреваю, что в них есть выбросы. Построим boxplot по этим признакам."
   ]
  },
  {
   "cell_type": "code",
   "execution_count": 36,
   "id": "7942a738-309e-4cee-9a5b-2599abe9c004",
   "metadata": {},
   "outputs": [
    {
     "data": {
      "image/png": "[encoded data removed]",
      "text/plain": [
       "<Figure size 1440x504 with 1 Axes>"
      ]
     },
     "metadata": {
      "needs_background": "light"
     },
     "output_type": "display_data"
    }
   ],
   "source": [
    "plt.figure(figsize=(20,7))\n",
    "sns.boxplot(x = df_train_encoded['CREDIT_SCORE'])\n",
    "plt.xlim(0, 1)\n",
    "plt.xticks(np.arange(0.05, 0.95, 0.025))\n",
    "plt.show()"
   ]
  },
  {
   "cell_type": "markdown",
   "id": "7fe8dcde-408d-4481-8cb6-9201e6266d5c",
   "metadata": {},
   "source": [
    "Видно, что в признаке CREDIT_SCORE есть выбросы, очистим значения меньше 0.17 и больше 0.87 в обучающей выборке:"
   ]
  },
  {
   "cell_type": "code",
   "execution_count": 37,
   "id": "4718023a-10ca-401e-8cd6-2ef6ae5882db",
   "metadata": {},
   "outputs": [
    {
     "data": {
      "text/plain": [
       "7950"
      ]
     },
     "execution_count": 37,
     "metadata": {},
     "output_type": "execute_result"
    }
   ],
   "source": [
    "df_train_encoded = df_train_encoded[df_train_encoded['CREDIT_SCORE'] >= 0.17]\n",
    "df_train_encoded = df_train_encoded[df_train_encoded['CREDIT_SCORE'] <= 0.87]\n",
    "len(df_train_encoded)"
   ]
  },
  {
   "cell_type": "code",
   "execution_count": 38,
   "id": "2b3652ec-d602-4f41-ab40-74ee93c47f59",
   "metadata": {},
   "outputs": [
    {
     "data": {
      "text/plain": [
       "7950"
      ]
     },
     "execution_count": 38,
     "metadata": {},
     "output_type": "execute_result"
    }
   ],
   "source": [
    "y_train_series = y_train_series[df_train_encoded.index]\n",
    "len(y_train_series)"
   ]
  },
  {
   "cell_type": "code",
   "execution_count": 39,
   "id": "34767f25-ddc7-4f00-8c7e-f440529a2b9e",
   "metadata": {},
   "outputs": [
    {
     "data": {
      "image/png": "[encoded data removed]",
      "text/plain": [
       "<Figure size 1440x504 with 1 Axes>"
      ]
     },
     "metadata": {
      "needs_background": "light"
     },
     "output_type": "display_data"
    }
   ],
   "source": [
    "plt.figure(figsize=(20,7))\n",
    "sns.boxplot(x = df_train_encoded['ANNUAL_MILEAGE'])\n",
    "plt.xticks(np.arange(2000, 22000, 1000))\n",
    "plt.show()"
   ]
  },
  {
   "cell_type": "markdown",
   "id": "6b6d2ff3-fb33-4bc1-bbeb-457f1851e2c5",
   "metadata": {},
   "source": [
    "В этом признаке тоже есть выбросы, очистим значения меньше 6000 и больше 17000:"
   ]
  },
  {
   "cell_type": "code",
   "execution_count": 40,
   "id": "8da099a7-f55d-49a4-bbe6-5e7036c9f980",
   "metadata": {},
   "outputs": [
    {
     "data": {
      "text/plain": [
       "7733"
      ]
     },
     "execution_count": 40,
     "metadata": {},
     "output_type": "execute_result"
    }
   ],
   "source": [
    "df_train_encoded = df_train_encoded[df_train_encoded['ANNUAL_MILEAGE'] >= 6000]\n",
    "df_train_encoded = df_train_encoded[df_train_encoded['ANNUAL_MILEAGE'] <= 17000]\n",
    "len(df_train_encoded)"
   ]
  },
  {
   "cell_type": "code",
   "execution_count": 41,
   "id": "4ae95a10-ec5e-4da4-93fc-d424d727e84c",
   "metadata": {},
   "outputs": [
    {
     "data": {
      "text/plain": [
       "7733"
      ]
     },
     "execution_count": 41,
     "metadata": {},
     "output_type": "execute_result"
    }
   ],
   "source": [
    "y_train_series = y_train_series[df_train_encoded.index]\n",
    "len(y_train_series)"
   ]
  },
  {
   "cell_type": "markdown",
   "id": "24527faf-fbc8-4dfc-b08b-003da4344ad2",
   "metadata": {},
   "source": [
    "# Построение RandomForest на обработанных данных\n",
    "\n",
    "Данные дополнительно обработаны, теперь заново подбираем параметры и обучаем лучший алгоритм."
   ]
  },
  {
   "cell_type": "code",
   "execution_count": 42,
   "id": "5cd6f1d5-d915-46e0-a5b5-f69c0ba16479",
   "metadata": {},
   "outputs": [],
   "source": [
    "X_train = np.array(df_train_encoded)\n",
    "y_train = np.array(y_train_series)\n",
    "\n",
    "X_test = np.array(df_test_encoded)\n",
    "y_test = np.array(y_test_series)"
   ]
  },
  {
   "cell_type": "markdown",
   "id": "cb8a9ea2-7e91-4843-900b-60fed6f03df3",
   "metadata": {},
   "source": [
    "## Подбор параметров"
   ]
  },
  {
   "cell_type": "code",
   "execution_count": 43,
   "id": "d7e238b5-be71-45c3-b78d-531436509401",
   "metadata": {},
   "outputs": [],
   "source": [
    "from sklearn.ensemble import RandomForestClassifier\n",
    "from sklearn.model_selection import GridSearchCV"
   ]
  },
  {
   "cell_type": "code",
   "execution_count": 45,
   "id": "a1aa136e-6dac-42cf-af43-d04fbf13cb90",
   "metadata": {},
   "outputs": [
    {
     "name": "stdout",
     "output_type": "stream",
     "text": [
      "Fitting 5 folds for each of 45 candidates, totalling 225 fits\n"
     ]
    },
    {
     "data": {
      "text/plain": [
       "GridSearchCV(cv=5, estimator=RandomForestClassifier(class_weight='balanced'),\n",
       "             n_jobs=-1,\n",
       "             param_grid=[{'max_features': ['auto', 'sqrt', 'log2'],\n",
       "                          'min_samples_leaf': [1, 3, 5, 7, 10],\n",
       "                          'n_estimators': [100, 200, 300]}],\n",
       "             scoring='f1', verbose=3)"
      ]
     },
     "execution_count": 45,
     "metadata": {},
     "output_type": "execute_result"
    }
   ],
   "source": [
    "param_grid = [{\n",
    "    'n_estimators' : [100, 200, 300],\n",
    "    'min_samples_leaf' : [1, 3, 5, 7, 10],\n",
    "    'max_features' : ['auto', 'sqrt', 'log2']\n",
    "}]\n",
    "\n",
    "model = RandomForestClassifier(class_weight='balanced')\n",
    "\n",
    "gs = GridSearchCV(model, param_grid=param_grid, cv = 5, scoring='f1', verbose=3,  n_jobs=-1)\n",
    "gs.fit(X_train, y_train)"
   ]
  },
  {
   "cell_type": "code",
   "execution_count": 46,
   "id": "655583ea-abab-4077-87b0-c1be0af80aa0",
   "metadata": {},
   "outputs": [
    {
     "data": {
      "text/plain": [
       "({'max_features': 'auto', 'min_samples_leaf': 7, 'n_estimators': 200},\n",
       " 0.7611991080233838)"
      ]
     },
     "execution_count": 46,
     "metadata": {},
     "output_type": "execute_result"
    }
   ],
   "source": [
    "gs.best_params_, gs.best_score_"
   ]
  },
  {
   "cell_type": "markdown",
   "id": "1ceb25dd-d04d-4e8b-8d83-40005f786c65",
   "metadata": {},
   "source": [
    "## Тест"
   ]
  },
  {
   "cell_type": "code",
   "execution_count": 67,
   "id": "42617af5-e175-4a39-878f-f564409a34aa",
   "metadata": {},
   "outputs": [],
   "source": [
    "from sklearn.ensemble import RandomForestClassifier\n",
    "from sklearn.metrics import classification_report, f1_score"
   ]
  },
  {
   "cell_type": "code",
   "execution_count": 68,
   "id": "b9d52402-c3e2-4838-9e3c-dcf0192353a1",
   "metadata": {},
   "outputs": [
    {
     "name": "stdout",
     "output_type": "stream",
     "text": [
      "0.7456896551724137\n"
     ]
    }
   ],
   "source": [
    "model = RandomForestClassifier(n_estimators=200, class_weight='balanced',\n",
    "                             max_features='auto',min_samples_leaf=7)\n",
    "\n",
    "model.fit(X_train, y_train)\n",
    "\n",
    "y_pred = model.predict(X_test)\n",
    "\n",
    "print(f1_score(y_test, y_pred))"
   ]
  },
  {
   "cell_type": "code",
   "execution_count": 69,
   "id": "de80d2dd-e27d-4a6e-b677-54b01b173a75",
   "metadata": {},
   "outputs": [
    {
     "name": "stdout",
     "output_type": "stream",
     "text": [
      "              precision    recall  f1-score   support\n",
      "\n",
      "           0       0.91      0.82      0.86      1373\n",
      "           1       0.68      0.83      0.75       627\n",
      "\n",
      "    accuracy                           0.82      2000\n",
      "   macro avg       0.80      0.82      0.80      2000\n",
      "weighted avg       0.84      0.82      0.83      2000\n",
      "\n"
     ]
    }
   ],
   "source": [
    "print(classification_report(y_test, y_pred))"
   ]
  },
  {
   "cell_type": "markdown",
   "id": "12dbae65-b794-4846-9440-eb263b5143dd",
   "metadata": {},
   "source": [
    "В результате работы получилось улучшить скор , был  0.737527114967462, стал 0.7456896551724137, но разница не очень большая. Однако, в задачах машинного обучения важная каждая сотая качества классификации, поэтому таким путем мы добились лучших результатов. Возможно, был выбран не лучший алгоритм для решения данной задачи, однако, мне уж очень хотелось поработать со случайным лесом. Также не исключено, что проблема именно в данных и лучший скор тут получить довольно сложно.\n",
    "\n",
    "Отличия скоров на кросс валидации и на тесте можно объяснить тем, что на кросс валидации в фолды попадают данные, на которых проводилась обработка признаков, а на тесте параметры обработки берутся исключительно из обучения."
   ]
  }
 ],
 "metadata": {
  "kernelspec": {
   "display_name": "Python 3 (ipykernel)",
   "language": "python",
   "name": "python3"
  },
  "language_info": {
   "codemirror_mode": {
    "name": "ipython",
    "version": 3
   },
   "file_extension": ".py",
   "mimetype": "text/x-python",
   "name": "python",
   "nbconvert_exporter": "python",
   "pygments_lexer": "ipython3",
   "version": "3.8.12"
  }
 },
 "nbformat": 4,
 "nbformat_minor": 5
}
